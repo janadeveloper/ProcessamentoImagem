{
  "nbformat": 4,
  "nbformat_minor": 0,
  "metadata": {
    "colab": {
      "provenance": []
    },
    "kernelspec": {
      "name": "python3",
      "display_name": "Python 3"
    },
    "language_info": {
      "name": "python"
    }
  },
  "cells": [
    {
      "cell_type": "markdown",
      "source": [
        "Instituto de Computação\n",
        "\n",
        "Programa de Pós Graduação do Instituto de Computação\n",
        "\n",
        "\n",
        "\n",
        "Disciplina: Processamento de Imagem\n",
        "\n",
        "Aluna: Janaine Ferreira dos Santos\n"
      ],
      "metadata": {
        "id": "ZhMBsZIGeOXz"
      }
    },
    {
      "cell_type": "markdown",
      "source": [
        "\n",
        "*   **NumPy Array**\n",
        "\n",
        "1. Como criar um array NumPy vazio e completo?\n",
        "\n",
        "\n"
      ],
      "metadata": {
        "id": "CrHxnxsJi5UE"
      }
    },
    {
      "cell_type": "markdown",
      "source": [
        "RESPOSTA: Com a biblioteca NumPy podemos realizar cálculos complexos na estrutura de dados do array em Python. Existem duas funções para criar arrays vazio e completo. Dessa forma, um array a sintaxe para criar um array completo e vazio é da seguinte forma:\n",
        "\n",
        "*np.full(order of array, fill_value, dtype = None)*\n",
        "\n",
        "*np.empty(order of array, dtype = None)*\n",
        "\n",
        "Ou seja, usamos o \"np.full()\" para criar um array completo e \"np.empty()\" para criar um array vazio. O parâmetro com a ordem do array representa a sua forma. o \"fill_value\" pode ser um escalonador ou array que será atribuído ao array e \"dtype\" mostra o tipo de dados de matriz, ambos parâmetros são opcionais."
      ],
      "metadata": {
        "id": "qfmqv7t5wTPC"
      }
    },
    {
      "cell_type": "markdown",
      "source": [
        "\n",
        "2.   Crie um array Numpy preenchido com zeros\n",
        "\n"
      ],
      "metadata": {
        "id": "MCFikCOpsmYH"
      }
    },
    {
      "cell_type": "code",
      "source": [
        "import numpy as np\n",
        "\n",
        "#criando um array Numpy preenchidos com zeros\n",
        "#criando um array cheio usando \"np.zeros\"\n",
        "zeros=np.zeros(shape=7)\n",
        "print(\"Array preenchido com zeros\")\n",
        "print(zeros)"
      ],
      "metadata": {
        "colab": {
          "base_uri": "https://localhost:8080/"
        },
        "id": "DN15PtVItjOa",
        "outputId": "77fd4661-b0a8-4057-aa71-da1a11f0fa3d"
      },
      "execution_count": null,
      "outputs": [
        {
          "output_type": "stream",
          "name": "stdout",
          "text": [
            "Array preenchido com zeros\n",
            "[0. 0. 0. 0. 0. 0. 0.]\n"
          ]
        }
      ]
    },
    {
      "cell_type": "markdown",
      "source": [
        "\n",
        "3. Crie um array Numpy preenchido com todos\n",
        "\n"
      ],
      "metadata": {
        "id": "mxC5kyCqtYsd"
      }
    },
    {
      "cell_type": "code",
      "source": [
        "import numpy as np\n",
        "\n",
        "#criando um array vazio usando \"np.empty\"\n",
        "Avazio=np.empty((2, 3))\n",
        "print(\"Array Vazio\")\n",
        "print(Avazio)\n",
        "\n",
        "#criando um array cheio usando \"np.full\"\n",
        "Acheio=np.full([2, 3], 5, dtype=int)\n",
        "print(\"\\nArray Cheio\")\n",
        "print(Acheio)"
      ],
      "metadata": {
        "colab": {
          "base_uri": "https://localhost:8080/"
        },
        "id": "ah_Uk50gwOtQ",
        "outputId": "1871e0b6-1696-4987-ea19-25a46b8d9408"
      },
      "execution_count": null,
      "outputs": [
        {
          "output_type": "stream",
          "name": "stdout",
          "text": [
            "Array Vazio\n",
            "[[4.92526863e-310 0.00000000e+000 0.00000000e+000]\n",
            " [0.00000000e+000 0.00000000e+000 0.00000000e+000]]\n",
            "\n",
            "Array Cheio\n",
            "[[5 5 5]\n",
            " [5 5 5]]\n"
          ]
        }
      ]
    },
    {
      "cell_type": "markdown",
      "source": [
        "4. Verifique se uma matriz Numpy contém uma linha especificada"
      ],
      "metadata": {
        "id": "j-GtSDvvwXGc"
      }
    },
    {
      "cell_type": "code",
      "source": [
        "import numpy as np\n",
        "\n",
        "#verificamos se uma matriz Numpy contém uma linha especificada com a função array.tolist()\n",
        "#criando uma matriz\n",
        "aMatriz=np.array([[1,2,3,4], [2,3,4,1], [3,4,2,1], [4,1,2,3]])\n",
        "\n",
        "#lista para verificação\n",
        "l0=[1,2,3,4] #linha0\n",
        "l1=[2,3,4,1] #linha1\n",
        "l2=[0,1,2,3] #linha2\n",
        "l3=[1,5,10,15] #linha3\n",
        "\n",
        "#Exibe a matriz original\n",
        "print(\"Matriz:\")\n",
        "print(aMatriz)\n",
        "\n",
        "#Exibe a lista para verificação\n",
        "print(\"\\nLista para verificação\")\n",
        "print(\"Lista 0:\", l0)\n",
        "print(\"Lista 1:\", l1)\n",
        "print(\"Lista 2\", l2)\n",
        "print(\"Lista 3:\", l3)\n",
        "\n",
        "#verificando se as listas estão presentes nas linhas da matriz definida anteriormente\n",
        "print(\"\\nResultado\")\n",
        "print(\"Lista 1:\", l0 in aMatriz.tolist()) #true\n",
        "print(\"Lista 2:\", l1 in aMatriz.tolist()) #true\n",
        "print(\"Lista 3:\", l2 in aMatriz.tolist()) #false\n",
        "print(\"Lista 4:\", l3 in aMatriz.tolist()) #false"
      ],
      "metadata": {
        "colab": {
          "base_uri": "https://localhost:8080/"
        },
        "id": "PQkgXl_WFKjf",
        "outputId": "4fcac163-040c-4183-b853-1b43d6f1db03"
      },
      "execution_count": null,
      "outputs": [
        {
          "output_type": "stream",
          "name": "stdout",
          "text": [
            "Matriz:\n",
            "[[1 2 3 4]\n",
            " [2 3 4 1]\n",
            " [3 4 2 1]\n",
            " [4 1 2 3]]\n",
            "\n",
            "Lista para verificação\n",
            "Lista 0: [1, 2, 3, 4]\n",
            "Lista 1: [2, 3, 4, 1]\n",
            "Lista 2 [0, 1, 2, 3]\n",
            "Lista 3: [1, 5, 10, 15]\n",
            "\n",
            "Resultado\n",
            "Lista 1: True\n",
            "Lista 2: True\n",
            "Lista 3: False\n",
            "Lista 4: False\n"
          ]
        }
      ]
    },
    {
      "cell_type": "markdown",
      "source": [
        "5. Como remover linhas na matriz Numpy que contém valores não numéricos?"
      ],
      "metadata": {
        "id": "Rog2W5IKxL73"
      }
    },
    {
      "cell_type": "code",
      "source": [
        "#Podemos remover linhas na matriz Numpy que contém valores não númericos utilizando o operador NOT bit a bit e a função np.isnan()\n",
        "#criando uma matriz\n",
        "aMatriz=np.array([[1,2,3,4], [2,3,4,1], [3,4,2,np.nan], [np.nan,1,2,3]])\n",
        "\n",
        "#Exibe a matriz\n",
        "print(\"Matriz:\")\n",
        "print(aMatriz)\n",
        "print(\"\\nRemove as todas linhas com valores não númericos:\")\n",
        "print(aMatriz[~np.isnan(aMatriz).any(axis=1)])\n",
        "\n",
        "\n"
      ],
      "metadata": {
        "colab": {
          "base_uri": "https://localhost:8080/"
        },
        "id": "L2OyTMRtJXyZ",
        "outputId": "84c15509-6aa7-4d51-e3fa-39b63a469939"
      },
      "execution_count": null,
      "outputs": [
        {
          "output_type": "stream",
          "name": "stdout",
          "text": [
            "Matriz:\n",
            "[[ 1.  2.  3.  4.]\n",
            " [ 2.  3.  4.  1.]\n",
            " [ 3.  4.  2. nan]\n",
            " [nan  1.  2.  3.]]\n",
            "\n",
            "Remove as todas linhas com valores não númericos:\n",
            "[[1. 2. 3. 4.]\n",
            " [2. 3. 4. 1.]]\n"
          ]
        }
      ]
    },
    {
      "cell_type": "markdown",
      "source": [
        "6. Remova entradas unidimensionais da forma de uma matriz"
      ],
      "metadata": {
        "id": "MYwLse6UxQQp"
      }
    },
    {
      "cell_type": "code",
      "source": [
        "import numpy as np\n",
        "# matrizes unidimensionais: um vetor de coordenadas[x,y,z], pode ser acessada por um único índice, são estruturas de dados que armazenam elementos em uma única dimensão\n",
        "#criando uma matriz\n",
        "aMatriz=np.array([[1,2,3,4], [2,3,4,1], [3,4,2,1], [4,1,2,3]])\n",
        "\n",
        "#Exibe a matriz\n",
        "print(\"Matriz:\")\n",
        "print(aMatriz)\n",
        "\n",
        "#Removendo a terceira linha (índice 2)\n",
        "nMatriz=np.delete(aMatriz, 2, axis=0)\n",
        "\n",
        "#Exibe a matriz Nova\n",
        "print(\"\\nMatriz Nova:\")\n",
        "print(nMatriz)\n",
        "\n"
      ],
      "metadata": {
        "colab": {
          "base_uri": "https://localhost:8080/"
        },
        "id": "uHJ56NdHQ3Ze",
        "outputId": "d12bdded-8bae-4dc1-dba4-45873cfc2515"
      },
      "execution_count": null,
      "outputs": [
        {
          "output_type": "stream",
          "name": "stdout",
          "text": [
            "Matriz:\n",
            "[[1 2 3 4]\n",
            " [2 3 4 1]\n",
            " [3 4 2 1]\n",
            " [4 1 2 3]]\n",
            "\n",
            "Matriz Nova:\n",
            "[[1 2 3 4]\n",
            " [2 3 4 1]\n",
            " [4 1 2 3]]\n"
          ]
        }
      ]
    },
    {
      "cell_type": "markdown",
      "source": [
        "7. Encontre o número de ocorrências de uma sequência em um array NumPy"
      ],
      "metadata": {
        "id": "NnbsJzfK2IeC"
      }
    },
    {
      "cell_type": "code",
      "source": [
        "import numpy as np\n",
        "#o método bincount() do NumPy para obter a contagem de ocorrências de cada elemento na matriz\n",
        "#criando uma matriz\n",
        "aMatriz=np.array([[1,2,3,4], [2,3,4,1], [3,4,2,1], [2,3,2,3]])\n",
        "\n",
        "#Exibe a matriz\n",
        "print(\"Matriz:\")\n",
        "print(aMatriz)\n",
        "\n",
        "#Contando a sequência\n",
        "output=repr(aMatriz).count(\"2, 3\")\n",
        "print(\"\\nNúmero de ocorrências de uma sequência [2,3]:\", output)\n"
      ],
      "metadata": {
        "colab": {
          "base_uri": "https://localhost:8080/"
        },
        "id": "hjP8lk1IhwvB",
        "outputId": "b4ff9781-824f-4b55-f510-afd5041b7c01"
      },
      "execution_count": null,
      "outputs": [
        {
          "output_type": "stream",
          "name": "stdout",
          "text": [
            "Matriz:\n",
            "[[1 2 3 4]\n",
            " [2 3 4 1]\n",
            " [3 4 2 1]\n",
            " [2 3 2 3]]\n",
            "\n",
            "Número de ocorrências de uma sequência [2,3]: 4\n"
          ]
        }
      ]
    },
    {
      "cell_type": "markdown",
      "source": [
        "8. Encontre o valor mais frequente em um array NumPy"
      ],
      "metadata": {
        "id": "VT5beM_T8c8Q"
      }
    },
    {
      "cell_type": "code",
      "source": [
        "import numpy as np\n",
        "#o método bincount() do NumPy para obter a contagem de ocorrências de cada elemento na matriz e o o método argmax() para obter o valor com o maior número de ocorrências (frequência)\n",
        "#criando uma matriz\n",
        "aMatriz=np.array([1,2,3,4,2,3,4,1,3,4,2,1,2,3,2,3])\n",
        "#Exibe a matriz\n",
        "print(\"Matriz:\")\n",
        "print(aMatriz)\n",
        "#Encontrando o valor mais frequente na matriz\n",
        "print(\"\\nValor mais frequente na matriz:\")\n",
        "print(np.bincount(aMatriz).argmax())\n",
        "\n"
      ],
      "metadata": {
        "colab": {
          "base_uri": "https://localhost:8080/"
        },
        "id": "bgFeO-7bmWrC",
        "outputId": "6ee55397-bc50-4d4a-c21a-91b6dd39c85c"
      },
      "execution_count": null,
      "outputs": [
        {
          "output_type": "stream",
          "name": "stdout",
          "text": [
            "Matriz:\n",
            "[1 2 3 4 2 3 4 1 3 4 2 1 2 3 2 3]\n",
            "\n",
            "Valor mais frequente na matriz:\n",
            "2\n"
          ]
        }
      ]
    },
    {
      "cell_type": "markdown",
      "source": [
        "9. Combinando um array NumPy unidimensional e bidimensional"
      ],
      "metadata": {
        "id": "N1HF2NP68qPl"
      }
    },
    {
      "cell_type": "code",
      "source": [
        "import numpy as np\n",
        "\n",
        "#função chamada numpy.nditer(), que fornece esse recurso.\n",
        "\n",
        "ar_1d = np.arange(5) #arange (1-D) (5- com valores de 0 a 4)\n",
        "print(\"matriz unidimensional:\")\n",
        "print(ar_1d)\n",
        "\n",
        "ar_2d = np.arange(10).reshape(2,5) #arange (1-D) e rashape(matriz 2x5) (10- com valores de 0 a 9)\n",
        "print(\"\\nmatriz bidimensional:\")\n",
        "print(ar_2d)\n",
        "for a, b in np.nditer([ar_1d, ar_2d]): #usando np.nditer() para iterar sobre os elementos de ar_1d e ar_2d simultaneamente. E a e b representam os elementos correspondentes de cada array\n",
        "    print(\"%d:%d\" % (a, b),) #Imprime os elementos de ar_1d e ar_2d em pares, separados por :\n"
      ],
      "metadata": {
        "colab": {
          "base_uri": "https://localhost:8080/"
        },
        "id": "42bYVdvg0zFy",
        "outputId": "16ab6158-1109-4191-c35c-34207c969721"
      },
      "execution_count": null,
      "outputs": [
        {
          "output_type": "stream",
          "name": "stdout",
          "text": [
            "matriz unidimensional:\n",
            "[0 1 2 3 4]\n",
            "\n",
            "matriz bidimensional:\n",
            "[[0 1 2 3 4]\n",
            " [5 6 7 8 9]]\n",
            "0:0\n",
            "1:1\n",
            "2:2\n",
            "3:3\n",
            "4:4\n",
            "0:5\n",
            "1:6\n",
            "2:7\n",
            "3:8\n",
            "4:9\n"
          ]
        }
      ]
    },
    {
      "cell_type": "markdown",
      "source": [
        "10. Como construir um array de todas as combinações de dois arrays NumPy?"
      ],
      "metadata": {
        "id": "a6LsmtFOn_u6"
      }
    },
    {
      "cell_type": "code",
      "source": [
        "import numpy as np\n",
        "\n",
        "#função chamada numpy.meshgrid() que nos permite criar uma grade retangular a partir de duas matrizes unidimensionais fornecidas, representando a indexação cartesiana ou indexação de matriz.\n",
        "ar_1 = np.array([1, 2])\n",
        "ar_2 = np.array([3, 4])\n",
        "\n",
        "# Calculando todas as combinações possíveis\n",
        "comb_ar = np.array(np.meshgrid(ar_1, ar_2)).T.reshape(-1, 2)\n",
        "\n",
        "print(\"Array-1:\")\n",
        "print(ar_1)\n",
        "print(\"\\nArray-2:\")\n",
        "print(ar_2)\n",
        "print(\"\\nArray combinado:\")\n",
        "print(comb_ar)\n"
      ],
      "metadata": {
        "id": "ao3bu1Xh8iZ1",
        "colab": {
          "base_uri": "https://localhost:8080/"
        },
        "outputId": "657e1b7c-8575-4edd-900c-adc47340c586"
      },
      "execution_count": null,
      "outputs": [
        {
          "output_type": "stream",
          "name": "stdout",
          "text": [
            "Array-1:\n",
            "[1 2]\n",
            "\n",
            "Array-2:\n",
            "[3 4]\n",
            "\n",
            "Array combinado:\n",
            "[[1 3]\n",
            " [1 4]\n",
            " [2 3]\n",
            " [2 4]]\n"
          ]
        }
      ]
    },
    {
      "cell_type": "markdown",
      "source": [
        " 11. Como adicionar uma borda ao redor de um array NumPy?"
      ],
      "metadata": {
        "id": "TBVLRAT8oDAS"
      }
    },
    {
      "cell_type": "code",
      "source": [
        "#a função numpy.pad() para construir a borda\n",
        "import numpy as np\n",
        "\n",
        "ar = np.ones((2, 4))\n",
        "print(\"Matriz original:\")\n",
        "print(ar)\n",
        "\n",
        "# Adicionando uma borda de zeros\n",
        "ar = np.pad(ar, pad_width=1, mode='constant', constant_values=0)\n",
        "print(\"\\nBorda de zeros ao redor da matriz:\")\n",
        "print(ar)"
      ],
      "metadata": {
        "colab": {
          "base_uri": "https://localhost:8080/"
        },
        "id": "SzzBISVQ_pJ7",
        "outputId": "c84dff69-ed32-4876-a592-85701c3df22a"
      },
      "execution_count": null,
      "outputs": [
        {
          "output_type": "stream",
          "name": "stdout",
          "text": [
            "Matriz original:\n",
            "[[1. 1. 1. 1.]\n",
            " [1. 1. 1. 1.]]\n",
            "\n",
            "Borda de zeros ao redor da matriz:\n",
            "[[0. 0. 0. 0. 0. 0.]\n",
            " [0. 1. 1. 1. 1. 0.]\n",
            " [0. 1. 1. 1. 1. 0.]\n",
            " [0. 0. 0. 0. 0. 0.]]\n"
          ]
        }
      ]
    },
    {
      "cell_type": "markdown",
      "source": [
        "12. Como comparar duas matrizes NumPy?"
      ],
      "metadata": {
        "id": "qqqYgPJ_oGu9"
      }
    },
    {
      "cell_type": "code",
      "source": [
        "import numpy as np\n",
        "#Se quisermos verificar se os elementos correspondentes de duas matrizes são iguais, podemos usar o operador ==.\n",
        "#Isso retorna uma matriz booleana com True para elementos iguais e False para elementos diferentes.\n",
        "#Se quisermos verificar se duas matrizes são equivalentes (ou seja, têm os mesmos elementos em todos os índices), podemos usar a função numpy.array_equal()\n",
        "\n",
        "# Exemplo de duas matrizes\n",
        "m1 = np.array([1, 2, 3])\n",
        "m2 = np.array([3, 2, 3])\n",
        "\n",
        "# Comparação element-wise\n",
        "print(\"Comparação element-wise:\")\n",
        "print(m1 == m2)  # Retorna uma matriz booleana\n",
        "\n",
        "# Verificação de equivalência de matrizes\n",
        "print(\"\\nVerificação de equivalência de matrizes:\")\n",
        "print(np.array_equal(m1, m2))  # Retorna True se as matrizes forem equivalentes\n",
        "\n"
      ],
      "metadata": {
        "colab": {
          "base_uri": "https://localhost:8080/"
        },
        "id": "VZvA3uiFAVCZ",
        "outputId": "4619405c-498a-4bc3-eb27-afa6592eace8"
      },
      "execution_count": null,
      "outputs": [
        {
          "output_type": "stream",
          "name": "stdout",
          "text": [
            "Comparação element-wise:\n",
            "[False  True  True]\n",
            "\n",
            "Verificação de equivalência de matrizes:\n",
            "False\n"
          ]
        }
      ]
    },
    {
      "cell_type": "markdown",
      "source": [
        "13. Como verificar se os valores especificados estão presentes no array NumPy?"
      ],
      "metadata": {
        "id": "jAPXGZg6oKUS"
      }
    },
    {
      "cell_type": "code",
      "source": [
        "#A função numpy.isin() verifica se os elementos de um array estão presentes em outro array.\n",
        "import numpy as np\n",
        "\n",
        "ar = np.array([1, 2, 3, 4, 5])\n",
        "v_especificos = [0, 4]\n",
        "\n",
        "# Verificando se os valores específicos estão presentes\n",
        "resultado = np.isin(ar, v_especificos)\n",
        "print(resultado)  # Retorna [False False False  True False]\n"
      ],
      "metadata": {
        "colab": {
          "base_uri": "https://localhost:8080/"
        },
        "id": "mv9i0MQLBv7P",
        "outputId": "badc1930-d3f9-4f0a-989f-ec4a00fc944e"
      },
      "execution_count": null,
      "outputs": [
        {
          "output_type": "stream",
          "name": "stdout",
          "text": [
            "[False False False  True False]\n"
          ]
        }
      ]
    },
    {
      "cell_type": "markdown",
      "source": [
        "14. Como obter todas as diagonais 2D de um array NumPy 3D?"
      ],
      "metadata": {
        "id": "mhDVu4wJoNAu"
      }
    },
    {
      "cell_type": "code",
      "source": [
        "#A função numpy.diagonal() retorna as diagonais especificadas de uma matriz n-dimensional.\n",
        "import numpy as np\n",
        "\n",
        "ar= np.arange(3 * 5 * 5).reshape(3, 5, 5) #np.arange(3 * 5 * 5) para criar um array unidimensional com valores de 0 a 74 (75 não incluso)\n",
        "print(\"Matriz 3D original:\") #.reshape(3, 5, 5) para reorganizar os elementos em uma matriz 3x5x5.\n",
        "print(ar)\n",
        "\n",
        "# Obtendo as diagonais 2D\n",
        "diag_ar= np.diagonal(ar, axis1=1, axis2=2) #axis1=1 indica que queremos as diagonais ao longo do segundo eixo (colunas) e axis2=2 indica que queremos as diagonais ao longo do terceiro eixo (profundidade)\n",
        "print(\"\\nMatriz 2D das diagonais:\")\n",
        "print(diag_ar)\n"
      ],
      "metadata": {
        "colab": {
          "base_uri": "https://localhost:8080/"
        },
        "id": "874IGxJpCPZ5",
        "outputId": "bcc00481-18ea-4e3e-a178-ca5db8514193"
      },
      "execution_count": null,
      "outputs": [
        {
          "output_type": "stream",
          "name": "stdout",
          "text": [
            "Matriz 3D original:\n",
            "[[[ 0  1  2  3  4]\n",
            "  [ 5  6  7  8  9]\n",
            "  [10 11 12 13 14]\n",
            "  [15 16 17 18 19]\n",
            "  [20 21 22 23 24]]\n",
            "\n",
            " [[25 26 27 28 29]\n",
            "  [30 31 32 33 34]\n",
            "  [35 36 37 38 39]\n",
            "  [40 41 42 43 44]\n",
            "  [45 46 47 48 49]]\n",
            "\n",
            " [[50 51 52 53 54]\n",
            "  [55 56 57 58 59]\n",
            "  [60 61 62 63 64]\n",
            "  [65 66 67 68 69]\n",
            "  [70 71 72 73 74]]]\n",
            "\n",
            "Matriz 2D das diagonais:\n",
            "[[ 0  6 12 18 24]\n",
            " [25 31 37 43 49]\n",
            " [50 56 62 68 74]]\n"
          ]
        }
      ]
    },
    {
      "cell_type": "markdown",
      "source": [
        "15. Achatar uma matriz em Python usando NumPy"
      ],
      "metadata": {
        "id": "OEpv-LrcoyZV"
      }
    },
    {
      "cell_type": "code",
      "source": [
        "#a função numpy_array.flatten(). Essa função transforma a matriz em um array unidimensional\n",
        "import numpy as np\n",
        "\n",
        "m = np.array([[1, 2],\n",
        "              [3, 4]])\n",
        "\n",
        "# Achatar a matriz\n",
        "m_aplana = m.flatten()\n",
        "print(\"Matriz original:\")\n",
        "print(m)\n",
        "print(\"\\nMatriz achatada:\")\n",
        "print(m_aplana)\n"
      ],
      "metadata": {
        "colab": {
          "base_uri": "https://localhost:8080/"
        },
        "id": "1udkuVB-EuId",
        "outputId": "5dd822bd-7f15-49a3-d2c8-651028b1b898"
      },
      "execution_count": null,
      "outputs": [
        {
          "output_type": "stream",
          "name": "stdout",
          "text": [
            "Matriz original:\n",
            "[[1 2]\n",
            " [3 4]]\n",
            "\n",
            "Matriz achatada:\n",
            "[1 2 3 4]\n"
          ]
        }
      ]
    },
    {
      "cell_type": "markdown",
      "source": [
        "16. Achatar um array numpy 2d em um array 1d"
      ],
      "metadata": {
        "id": "qsgB7dofo05N"
      }
    },
    {
      "cell_type": "code",
      "source": [
        "import numpy as np\n",
        "\n",
        "# Criando uma matriz 2D de exemplo\n",
        "m = np.array([[1, 2],\n",
        "              [3, 4]])\n",
        "\n",
        "# Achatar a matriz\n",
        "m_aplana = m.flatten()\n",
        "print(\"Matriz original:\")\n",
        "print(m)\n",
        "print(\"\\nMatriz achatada:\")\n",
        "print(m_aplana)\n",
        "\n"
      ],
      "metadata": {
        "colab": {
          "base_uri": "https://localhost:8080/"
        },
        "id": "s5oNZCf7FtMf",
        "outputId": "48be1334-d70f-4757-e815-dc4ecd4422b5"
      },
      "execution_count": null,
      "outputs": [
        {
          "output_type": "stream",
          "name": "stdout",
          "text": [
            "Matriz original:\n",
            "[[1 2]\n",
            " [3 4]]\n",
            "\n",
            "Matriz achatada:\n",
            "[1 2 3 4]\n"
          ]
        }
      ]
    },
    {
      "cell_type": "markdown",
      "source": [
        "17. Mova os eixos de uma matriz para novas posições"
      ],
      "metadata": {
        "id": "2OgGMZL1o3l-"
      }
    },
    {
      "cell_type": "code",
      "source": [
        "#a função numpy.transpose() ou simplesmente .T para transpor uma matriz.\n",
        "import numpy as np\n",
        "\n",
        "m = np.array([[1,2,3,4], [2,3,4,1], [3,4,2,1], [2,3,2,3]])\n",
        "\n",
        "# Transpondo a matriz\n",
        "m_transposta = m.T\n",
        "print(\"Matriz original:\")\n",
        "print(m)\n",
        "print(\"\\nMatriz transposta:\")\n",
        "print(m_transposta)\n",
        "\n"
      ],
      "metadata": {
        "id": "lPgO53dSGNCC",
        "colab": {
          "base_uri": "https://localhost:8080/"
        },
        "outputId": "5445c80b-3c75-4b15-c6bd-9d9c5a8b6de9"
      },
      "execution_count": null,
      "outputs": [
        {
          "output_type": "stream",
          "name": "stdout",
          "text": [
            "Matriz original:\n",
            "[[1 2 3 4]\n",
            " [2 3 4 1]\n",
            " [3 4 2 1]\n",
            " [2 3 2 3]]\n",
            "\n",
            "Matriz transposta:\n",
            "[[1 2 3 2]\n",
            " [2 3 4 3]\n",
            " [3 4 2 2]\n",
            " [4 1 1 3]]\n"
          ]
        }
      ]
    },
    {
      "cell_type": "markdown",
      "source": [
        "18. Intercambiar dois eixos de um array"
      ],
      "metadata": {
        "id": "jRBsdIvno6mM"
      }
    },
    {
      "cell_type": "code",
      "source": [
        "#Para intercambiar dois eixos de um array NumPy, podemos usar a função numpy.swapaxes()\n",
        "\n",
        "import numpy as np\n",
        "\n",
        "# Criando uma matriz 2D de exemplo\n",
        "m = np.array([[1,2,3,4], [2,3,4,1], [3,4,2,1], [2,3,2,3]])\n",
        "\n",
        "# Intercambiando os eixos 0 e 1\n",
        "m_intercambiada = np.swapaxes(m, 0, 1)\n",
        "print(\"Matriz original:\")\n",
        "print(m)\n",
        "print(\"\\nMatriz com eixos intercambiados:\")\n",
        "print(m_intercambiada)\n"
      ],
      "metadata": {
        "id": "zNAIcZRmGNhV",
        "colab": {
          "base_uri": "https://localhost:8080/"
        },
        "outputId": "8d8c30a8-dc82-4a7a-c02c-dd026e4537b3"
      },
      "execution_count": null,
      "outputs": [
        {
          "output_type": "stream",
          "name": "stdout",
          "text": [
            "Matriz original:\n",
            "[[1 2 3 4]\n",
            " [2 3 4 1]\n",
            " [3 4 2 1]\n",
            " [2 3 2 3]]\n",
            "\n",
            "Matriz com eixos intercambiados:\n",
            "[[1 2 3 2]\n",
            " [2 3 4 3]\n",
            " [3 4 2 2]\n",
            " [4 1 1 3]]\n"
          ]
        }
      ]
    },
    {
      "cell_type": "markdown",
      "source": [
        "19. NumPy – Série Fibonacci usando Fórmula Binet"
      ],
      "metadata": {
        "id": "9FDKBpexo9O_"
      }
    },
    {
      "cell_type": "code",
      "source": [
        "import numpy as np\n",
        "\n",
        "f = np.arange(1, 16)\n",
        "lengthA = len(f)\n",
        "sqrtFive = np.sqrt(5)\n",
        "alpha = (1 + sqrtFive) / 2\n",
        "beta = (1 - sqrtFive) / 2\n",
        "Fn = np.rint(((alpha ** f) - (beta ** f)) / sqrtFive)\n",
        "\n",
        "print(f\"Os primeiros {lengthA} números da série de Fibonacci são {Fn}.\")"
      ],
      "metadata": {
        "id": "bSbNFvJfGOG6",
        "colab": {
          "base_uri": "https://localhost:8080/"
        },
        "outputId": "70549429-76d3-4b67-e846-5f8dceb71fb7"
      },
      "execution_count": null,
      "outputs": [
        {
          "output_type": "stream",
          "name": "stdout",
          "text": [
            "Os primeiros 15 números da série de Fibonacci são [  1.   1.   2.   3.   5.   8.  13.  21.  34.  55.  89. 144. 233. 377.\n",
            " 610.].\n"
          ]
        }
      ]
    },
    {
      "cell_type": "markdown",
      "source": [
        "20. Conta o número de valores diferentes de zero na matriz"
      ],
      "metadata": {
        "id": "Tre8NOOeo_sc"
      }
    },
    {
      "cell_type": "code",
      "source": [
        "# a função numpy.count_nonzero(). Essa função retorna a quantidade de elementos não nulos (diferentes de zero) em uma matriz.\n",
        "import numpy as np\n",
        "\n",
        "m = np.array([[1,2,3,0], [2,0,4,1], [0,4,2,1], [0,0,2,3]])\n",
        "\n",
        "# Contando valores diferentes de zero\n",
        "quantidade_nao_nulos = np.count_nonzero(m)\n",
        "print(f\"Quantidade de valores diferentes de zero na matriz: {quantidade_nao_nulos}\")\n"
      ],
      "metadata": {
        "id": "6ssr9XNVGOsO",
        "colab": {
          "base_uri": "https://localhost:8080/"
        },
        "outputId": "e9396dfe-75c5-45be-bbab-877b9bd2eac3"
      },
      "execution_count": null,
      "outputs": [
        {
          "output_type": "stream",
          "name": "stdout",
          "text": [
            "Quantidade de valores diferentes de zero na matriz: 11\n"
          ]
        }
      ]
    },
    {
      "cell_type": "markdown",
      "source": [
        "21. Conte o número de elementos ao longo de um determinado eixo"
      ],
      "metadata": {
        "id": "ODaL3CTXpCFz"
      }
    },
    {
      "cell_type": "code",
      "source": [
        "#a função numpy.size(). Essa função retorna a quantidade de elementos ao longo do eixo especificado.\n",
        "import numpy as np\n",
        "\n",
        "m = np.array([[1,2,3,0], [2,0,4,1], [0,4,2,1], [0,0,2,3]])\n",
        "\n",
        "# Contando o número total de elementos\n",
        "quantidade_elementos = np.size(m)\n",
        "print(f\"Quantidade total de elementos na matriz: {quantidade_elementos}\")\n"
      ],
      "metadata": {
        "id": "uu1wpHDIGPKr",
        "colab": {
          "base_uri": "https://localhost:8080/"
        },
        "outputId": "94bc5fbe-3d05-4849-cb71-1e04c5f7487f"
      },
      "execution_count": null,
      "outputs": [
        {
          "output_type": "stream",
          "name": "stdout",
          "text": [
            "Quantidade total de elementos na matriz: 16\n"
          ]
        }
      ]
    },
    {
      "cell_type": "markdown",
      "source": [
        "22. Corte os zeros à esquerda e/ou à direita de uma matriz 1-D"
      ],
      "metadata": {
        "id": "6pOe_55GpGtb"
      }
    },
    {
      "cell_type": "code",
      "source": [
        "#a função numpy.trim_zeros(). Essa função remove os zeros sem importancia.\n",
        "import numpy as np\n",
        "\n",
        "m = np.array([0, 0, 3, 0, 2, 0, 4, 1, 0, 4, 2, 1, 0, 0, 0, 0])\n",
        "\n",
        "#cortando os zeros a esquerda e a direita da matriz\n",
        "m_cortada = np.trim_zeros(m)\n",
        "print(\"Matriz Original:\")\n",
        "print(m)\n",
        "print(\"\\nMatriz cortada:\")\n",
        "print(m_cortada)"
      ],
      "metadata": {
        "id": "RvYqpryTGPso",
        "colab": {
          "base_uri": "https://localhost:8080/"
        },
        "outputId": "c3f27584-a954-4996-a683-d6b365563957"
      },
      "execution_count": null,
      "outputs": [
        {
          "output_type": "stream",
          "name": "stdout",
          "text": [
            "Matriz Original:\n",
            "[0 0 3 0 2 0 4 1 0 4 2 1 0 0 0 0]\n",
            "\n",
            "Matriz cortada:\n",
            "[3 0 2 0 4 1 0 4 2 1]\n"
          ]
        }
      ]
    },
    {
      "cell_type": "markdown",
      "source": [
        "23. Alterar o tipo de dados de uma determinada matriz numpy"
      ],
      "metadata": {
        "id": "79FBNW0dpIDi"
      }
    },
    {
      "cell_type": "code",
      "source": [
        "#a função numpy.astype(). Essa função permite converter os elementos da matriz para um tipo de dados específico.\n",
        "import numpy as np\n",
        "\n",
        "m = np.array([15, 25, 35, 45, 55])\n",
        "\n",
        "# Verificando o dtype atual da matriz\n",
        "print(\"Dtype original:\")\n",
        "print(m.dtype)\n",
        "\n",
        "# Alterando para float64\n",
        "m = m.astype('float64')\n",
        "\n",
        "# Verificando o dtype após a conversão\n",
        "print(\"\\nDtype após a conversão:\")\n",
        "print(m.dtype)\n"
      ],
      "metadata": {
        "id": "8kfTBzYTGQIa",
        "colab": {
          "base_uri": "https://localhost:8080/"
        },
        "outputId": "08b4dc45-333b-42db-ebae-1d2dc42346f7"
      },
      "execution_count": null,
      "outputs": [
        {
          "output_type": "stream",
          "name": "stdout",
          "text": [
            "Dtype original:\n",
            "int64\n",
            "\n",
            "Dtype após a conversão:\n",
            "float64\n"
          ]
        }
      ]
    },
    {
      "cell_type": "markdown",
      "source": [
        "24. Reverter uma matriz numpy"
      ],
      "metadata": {
        "id": "nRJ8nH7gpK7L"
      }
    },
    {
      "cell_type": "code",
      "source": [
        "#a função numpy.flip(). Essa função inverte os elementos da matriz ao longo do eixo especificado.\n",
        "import numpy as np\n",
        "\n",
        "m = np.array([[1, 2, 3],\n",
        "                   [2, 3, 1]])\n",
        "\n",
        "# Revertendo ao longo do eixo 0\n",
        "m_revertida = np.flip(m, axis=0)\n",
        "print(\"Matriz original:\")\n",
        "print(m)\n",
        "print(\"\\nMatriz revertida:\")\n",
        "print(m_revertida)\n"
      ],
      "metadata": {
        "id": "mTuYNHUVGQsD",
        "colab": {
          "base_uri": "https://localhost:8080/"
        },
        "outputId": "5811b1e1-1d7d-4430-b8ec-cdd19bbc6cb9"
      },
      "execution_count": null,
      "outputs": [
        {
          "output_type": "stream",
          "name": "stdout",
          "text": [
            "Matriz original:\n",
            "[[1 2 3]\n",
            " [2 3 1]]\n",
            "\n",
            "Matriz revertida:\n",
            "[[2 3 1]\n",
            " [1 2 3]]\n"
          ]
        }
      ]
    },
    {
      "cell_type": "markdown",
      "source": [
        "25. Como tornar um array NumPy somente leitura?"
      ],
      "metadata": {
        "id": "Gw7NL2e0pNfJ"
      }
    },
    {
      "cell_type": "code",
      "source": [
        "#usamos writeable um nalizador gravável\n",
        "import numpy as np\n",
        "\n",
        "# Criando um array de zeros com 5 elementos\n",
        "ar = np.zeros(5)\n",
        "\n",
        "print(\"Antes de qualquer mudança:\")\n",
        "print(ar)\n",
        "\n",
        "# Modificando o segundo elemento do array\n",
        "ar[3] = 3\n",
        "print(\"Após a primeira mudança:\")\n",
        "print(ar)\n",
        "\n",
        "# Tornando o array imutável (somente leitura)\n",
        "ar.flags.writeable = False\n",
        "print(\"Após tornar o array imutável, ao tentar uma segunda mudança:\")\n",
        "try:\n",
        "    ar[2] = 7\n",
        "except ValueError as e:\n",
        "    print(f\"Erro: {e}\")\n"
      ],
      "metadata": {
        "id": "gbfGf1ADGRNz",
        "colab": {
          "base_uri": "https://localhost:8080/"
        },
        "outputId": "02f96797-e226-4572-ca66-f5f05058927b"
      },
      "execution_count": null,
      "outputs": [
        {
          "output_type": "stream",
          "name": "stdout",
          "text": [
            "Antes de qualquer mudança:\n",
            "[0. 0. 0. 0. 0.]\n",
            "Após a primeira mudança:\n",
            "[0. 0. 0. 3. 0.]\n",
            "Após tornar o array imutável, ao tentar uma segunda mudança:\n",
            "Erro: assignment destination is read-only\n"
          ]
        }
      ]
    },
    {
      "cell_type": "markdown",
      "source": [
        "*   **NumPy Matrix**\n",
        "\n",
        "1. Obtenha o valor máximo de determinada matriz"
      ],
      "metadata": {
        "id": "01Sg2UBJpb0R"
      }
    },
    {
      "cell_type": "code",
      "source": [
        "#método max() para obter o valor máximo\n",
        "import numpy as np\n",
        "\n",
        "# Criando uma matriz de exemplo\n",
        "m = np.array([[1, 2, 3], [2, 3, 1], [4, 1, 3]])\n",
        "\n",
        "# Obtendo o valor máximo da matriz\n",
        "v_max = m.max()\n",
        "\n",
        "print(f\"O valor máximo da matriz é: {v_max}\")\n"
      ],
      "metadata": {
        "id": "ZwQjeLIRGSdU",
        "colab": {
          "base_uri": "https://localhost:8080/"
        },
        "outputId": "2a5f9e8d-88df-42f9-e6e3-49929f4bf2ec"
      },
      "execution_count": null,
      "outputs": [
        {
          "output_type": "stream",
          "name": "stdout",
          "text": [
            "O valor máximo da matriz é: 4\n"
          ]
        }
      ]
    },
    {
      "cell_type": "markdown",
      "source": [
        "2. Obtenha o valor mínimo de determinada matriz"
      ],
      "metadata": {
        "id": "cT1DFRHxrHXg"
      }
    },
    {
      "cell_type": "code",
      "source": [
        "#método min() para obter o valor máximo\n",
        "import numpy as np\n",
        "\n",
        "# Criando uma matriz de exemplo\n",
        "m = np.array([[1, 2, 3], [4, 3, 11], [5, 6, 7]])\n",
        "\n",
        "# Obtendo o valor máximo da matriz\n",
        "v_min = m.min()\n",
        "\n",
        "print(f\"O valor mínimo da matriz é: {v_min}\")"
      ],
      "metadata": {
        "id": "2HD0XoFcGS3J",
        "colab": {
          "base_uri": "https://localhost:8080/"
        },
        "outputId": "b7823f72-4013-4853-adc0-30cf2444ef9f"
      },
      "execution_count": null,
      "outputs": [
        {
          "output_type": "stream",
          "name": "stdout",
          "text": [
            "O valor mínimo da matriz é: 1\n"
          ]
        }
      ]
    },
    {
      "cell_type": "markdown",
      "source": [
        "3. Encontre o número de linhas e colunas de uma determinada matriz usando NumPy"
      ],
      "metadata": {
        "id": "wxQEDtBIrLTb"
      }
    },
    {
      "cell_type": "code",
      "source": [
        "#a função shape() retona a tupla de n° de linhas e colunas da matriz\n",
        "import numpy as np\n",
        "\n",
        "# Criando uma matriz de exemplo 3x3\n",
        "matriz = np.arange(1, 10).reshape((3, 3))\n",
        "\n",
        "print(\"Matriz:\")\n",
        "print(matriz)\n",
        "print(f\"Número de linhas e colunas: {matriz.shape}\")\n"
      ],
      "metadata": {
        "id": "w74pK8QtGTUm",
        "colab": {
          "base_uri": "https://localhost:8080/"
        },
        "outputId": "ebd175a6-d5ec-4df8-c39d-93edaeaeb99e"
      },
      "execution_count": null,
      "outputs": [
        {
          "output_type": "stream",
          "name": "stdout",
          "text": [
            "Matriz:\n",
            "[[1 2 3]\n",
            " [4 5 6]\n",
            " [7 8 9]]\n",
            "Número de linhas e colunas: (3, 3)\n"
          ]
        }
      ]
    },
    {
      "cell_type": "markdown",
      "source": [
        "4. Selecione os elementos de uma determinada matriz"
      ],
      "metadata": {
        "id": "8QQeUUfTrOLq"
      }
    },
    {
      "cell_type": "code",
      "source": [
        "# Criando uma matriz tridimensional de exemplo\n",
        "m_3d = np.array([[[1, 2, 3], [4, 0, 5]], [[6, 7, 8], [9, 11, 0]]])\n",
        "\n",
        "# Acessando o elemento na segunda matriz bidimensional, segunda matriz unidimensional e primeiro elemento\n",
        "print(\"Elemento na posição (1, 1, 1):\", m_3d[1, 1, 1])\n"
      ],
      "metadata": {
        "id": "Z1GyLWopGTv9",
        "colab": {
          "base_uri": "https://localhost:8080/"
        },
        "outputId": "93661a1e-062b-4369-e728-b5a516805cc9"
      },
      "execution_count": null,
      "outputs": [
        {
          "output_type": "stream",
          "name": "stdout",
          "text": [
            "Elemento na posição (1, 1, 1): 11\n"
          ]
        }
      ]
    },
    {
      "cell_type": "markdown",
      "source": [
        "5. Encontre a soma dos valores em uma matriz"
      ],
      "metadata": {
        "id": "Q_dYbxx9rRCz"
      }
    },
    {
      "cell_type": "code",
      "source": [
        "#numpy.sum()\n",
        "import numpy as np\n",
        "\n",
        "# Criando uma matriz de exemplo\n",
        "m = np.array([[[1, 2, 3], [4, 0, 5]], [[6, 7, 8], [9, 11, 0]]])\n",
        "\n",
        "# Calculando a soma de todos os elementos\n",
        "soma_total = np.sum(m)\n",
        "\n",
        "print(f\"A soma de todos os elementos da matriz é: {soma_total}\")\n",
        "\n"
      ],
      "metadata": {
        "id": "TqxUUAlKGUSU",
        "colab": {
          "base_uri": "https://localhost:8080/"
        },
        "outputId": "0b361107-8ad5-4ee2-abaa-f8d2c9261d91"
      },
      "execution_count": null,
      "outputs": [
        {
          "output_type": "stream",
          "name": "stdout",
          "text": [
            "A soma de todos os elementos da matriz é: 56\n"
          ]
        }
      ]
    },
    {
      "cell_type": "markdown",
      "source": [
        "6. Calcule a soma dos elementos diagonais de uma matriz NumPy"
      ],
      "metadata": {
        "id": "VvSPY2wjrZXR"
      }
    },
    {
      "cell_type": "code",
      "source": [
        "#O método numpy.trace() nos permite encontrar a soma dos elementos da diagonal principal de uma matriz.\n",
        "import numpy as np\n",
        "\n",
        "def SomaDiagonal(matriz, invertida=False):\n",
        "    x = np.asarray(matriz)\n",
        "    if invertida:\n",
        "        x = np.fliplr(x)\n",
        "    return np.trace(x)\n",
        "\n",
        "matriz = [[1, 10, 2], [4, 15, 6], [2, 8, 1]]\n",
        "print(f\"A soma da diagonal principal é {SomaDiagonal(matriz, False)}\")\n",
        "print(f\"A soma da diagonal invertida é {SomaDiagonal(matriz, True)}\")\n",
        "\n"
      ],
      "metadata": {
        "id": "k0SiUwFsGU5V",
        "colab": {
          "base_uri": "https://localhost:8080/"
        },
        "outputId": "474a8ad5-5a59-4006-da46-c92926fc6132"
      },
      "execution_count": null,
      "outputs": [
        {
          "output_type": "stream",
          "name": "stdout",
          "text": [
            "A soma da diagonal principal é 17\n",
            "A soma da diagonal invertida é 19\n"
          ]
        }
      ]
    },
    {
      "cell_type": "markdown",
      "source": [
        "7. Adicionando e Subtraindo Matrizes em Python"
      ],
      "metadata": {
        "id": "KcPSzeCNrb0U"
      }
    },
    {
      "cell_type": "code",
      "source": [
        "# o método np.add()\n",
        "import numpy as np\n",
        "\n",
        "m1 = np.array([[1, 2], [3, 4]])\n",
        "m2 = np.array([[4, 5], [6, 7]])\n",
        "\n",
        "print(\"Matriz 1:\")\n",
        "print(m1)\n",
        "print(\"Matriz 2:\")\n",
        "print(m2)\n",
        "print(\"Adição das duas matrizes:\")\n",
        "print(np.add(m1, m2))"
      ],
      "metadata": {
        "colab": {
          "base_uri": "https://localhost:8080/"
        },
        "id": "eNORWYO5mgCU",
        "outputId": "4b7f6b74-ac19-489a-a8cf-0a0a778b487d"
      },
      "execution_count": null,
      "outputs": [
        {
          "output_type": "stream",
          "name": "stdout",
          "text": [
            "Matriz 1:\n",
            "[[1 2]\n",
            " [3 4]]\n",
            "Matriz 2:\n",
            "[[4 5]\n",
            " [6 7]]\n",
            "Adição das duas matrizes:\n",
            "[[ 5  7]\n",
            " [ 9 11]]\n"
          ]
        }
      ]
    },
    {
      "cell_type": "markdown",
      "source": [
        "8. Maneiras de adicionar linhas/colunas em um array numpy"
      ],
      "metadata": {
        "id": "Af9cmAlwrgGl"
      }
    },
    {
      "cell_type": "code",
      "source": [
        "import numpy as np\n",
        "\n",
        "#Array\n",
        "array = np.array([[1, 2, 3],[4, 5, 6]])\n",
        "\n",
        "# Adicionar uma linha\n",
        "linha = np.array([7, 8, 9])\n",
        "array_com_linha = np.vstack([array, linha])\n",
        "\n",
        "#Adiciona uma coluna\n",
        "nova_coluna = np.array([[10], [11]])\n",
        "array_com_coluna = np.hstack([array, nova_coluna])\n",
        "\n",
        "print(\"Array com nova linha:\\n\", array_com_linha)\n",
        "print(\"Array com nova coluna:\\n\", array_com_coluna)"
      ],
      "metadata": {
        "id": "MbRIWtZSGVvp",
        "outputId": "0f5b4b6e-3084-41ed-910f-8c960c14ead4",
        "colab": {
          "base_uri": "https://localhost:8080/"
        }
      },
      "execution_count": null,
      "outputs": [
        {
          "output_type": "stream",
          "name": "stdout",
          "text": [
            "Array com nova linha:\n",
            " [[1 2 3]\n",
            " [4 5 6]\n",
            " [7 8 9]]\n",
            "Array com nova coluna:\n",
            " [[ 1  2  3 10]\n",
            " [ 4  5  6 11]]\n"
          ]
        }
      ]
    },
    {
      "cell_type": "markdown",
      "source": [
        "9. Multiplicação de matrizes em NumPy"
      ],
      "metadata": {
        "id": "6tzMOIoWrjOD"
      }
    },
    {
      "cell_type": "code",
      "source": [
        "import numpy as np\n",
        "\n",
        "#Matrizes\n",
        "M1 = np.array([[1, 2, 3], [4, 5, 6]])\n",
        "M2 = np.array([[7, 8], [9, 10], [11, 12]])\n",
        "\n",
        "# Multiplicação\n",
        "mult = np.matmul(M1, M2)\n",
        "\n",
        "print(\"Resultado da multiplicação de matrizes:\")\n",
        "print()"
      ],
      "metadata": {
        "id": "U5ynwB84GWLN",
        "outputId": "666e252f-16ff-4012-d9b3-d1b8c8b4db24",
        "colab": {
          "base_uri": "https://localhost:8080/"
        }
      },
      "execution_count": null,
      "outputs": [
        {
          "output_type": "stream",
          "name": "stdout",
          "text": [
            "Resultado da multiplicação de matrizes:\n",
            "\n"
          ]
        }
      ]
    },
    {
      "cell_type": "markdown",
      "source": [
        "10. Obtenha os valores próprios de uma matriz"
      ],
      "metadata": {
        "id": "SLyFosfkrlfQ"
      }
    },
    {
      "cell_type": "code",
      "source": [
        "import numpy as np\n",
        "\n",
        "#matriz\n",
        "matriz = np.array([[1, 2],[3, 4]])\n",
        "\n",
        "#valores_proprios\n",
        "valores_proprios, vetores_proprios = np.linalg.eig(matriz)\n",
        "\n",
        "# Imprimindo os valores próprios\n",
        "print(\"Valores próprios da matriz:\")\n",
        "print(valores_proprios)"
      ],
      "metadata": {
        "id": "PHgOYV9fGXC6",
        "colab": {
          "base_uri": "https://localhost:8080/"
        },
        "outputId": "0b7b1c2d-feda-4804-b4b3-8b45423c10e3"
      },
      "execution_count": null,
      "outputs": [
        {
          "output_type": "stream",
          "name": "stdout",
          "text": [
            "Valores próprios da matriz:\n",
            "[-0.37228132  5.37228132]\n"
          ]
        }
      ]
    },
    {
      "cell_type": "markdown",
      "source": [
        "11. Como calcular o determinante de uma matriz usando NumPy?"
      ],
      "metadata": {
        "id": "332pvgJwruHV"
      }
    },
    {
      "cell_type": "code",
      "source": [
        "import numpy as np\n",
        "\n",
        "#matriz\n",
        "matriz = np.array([[1, 2],[3, 4]])\n",
        "\n",
        "#determinante\n",
        "determinante = np.linalg.det(matriz)\n",
        "determinante_decimal = np.round(determinante, decimals = 2)\n",
        "print(\"Determinante da matriz:\")\n",
        "print(determinante_decimal)"
      ],
      "metadata": {
        "id": "Ldt8rlvaGYPx",
        "colab": {
          "base_uri": "https://localhost:8080/"
        },
        "outputId": "d7474aef-08ba-4248-fdd3-bcad221cbf03"
      },
      "execution_count": null,
      "outputs": [
        {
          "output_type": "stream",
          "name": "stdout",
          "text": [
            "Determinante da matriz:\n",
            "-2.0\n"
          ]
        }
      ]
    },
    {
      "cell_type": "markdown",
      "source": [
        "12. Como inverter uma matriz usando NumPy"
      ],
      "metadata": {
        "id": "q4EWqfH5rzJD"
      }
    },
    {
      "cell_type": "code",
      "source": [
        "import numpy as np\n",
        "\n",
        "#matriz\n",
        "matriz = np.array([[1, 2],[3, 4]])\n",
        "\n",
        "# Invertendo\n",
        "matriz_invertida = np.linalg.inv(matriz)\n",
        "\n",
        "print(\"Matriz invertida:\")\n",
        "print(matriz_invertida)"
      ],
      "metadata": {
        "id": "aW88kBlWGZXb",
        "colab": {
          "base_uri": "https://localhost:8080/"
        },
        "outputId": "e2eaf96e-29ce-4a27-a2a2-0435d6777862"
      },
      "execution_count": null,
      "outputs": [
        {
          "output_type": "stream",
          "name": "stdout",
          "text": [
            "Matriz invertida:\n",
            "[[-2.   1. ]\n",
            " [ 1.5 -0.5]]\n"
          ]
        }
      ]
    },
    {
      "cell_type": "markdown",
      "source": [
        "13. Como contar a frequência de valores únicos no array NumPy?"
      ],
      "metadata": {
        "id": "ZeRJhCIFr2ui"
      }
    },
    {
      "cell_type": "code",
      "source": [
        "import numpy as np\n",
        "\n",
        "# Array\n",
        "array = np.array([1, 2, 3, 4, 1, 2, 3, 1, 2, 4])\n",
        "\n",
        "#valores únicos\n",
        "valores_unicos, contagens = np.unique(array, return_counts=True)\n",
        "\n",
        "# dicionário\n",
        "frequencia = dict(zip(valores_unicos, contagens))\n",
        "\n",
        "print(\"Frequência:\")\n",
        "print(frequencia)"
      ],
      "metadata": {
        "id": "hsmgFEX2GZtV",
        "colab": {
          "base_uri": "https://localhost:8080/"
        },
        "outputId": "e770a793-67a8-469f-9ae1-1a05475f47d4"
      },
      "execution_count": null,
      "outputs": [
        {
          "output_type": "stream",
          "name": "stdout",
          "text": [
            "Frequência:\n",
            "{1: 3, 2: 3, 3: 2, 4: 2}\n"
          ]
        }
      ]
    },
    {
      "cell_type": "markdown",
      "source": [
        "14. Multiplique matrizes de números complexos usando NumPy em Python"
      ],
      "metadata": {
        "id": "ZGtoG2iur7sX"
      }
    },
    {
      "cell_type": "code",
      "source": [
        "import numpy as np\n",
        "\n",
        "#matrizes\n",
        "matriz_complexa1 = np.array([[1+2j, 3-4j], [5+6j, 7-8j]])\n",
        "\n",
        "matriz_complexa2 = np.array([[2-1j, 4+3j], [6-5j, 8+7j]])\n",
        "\n",
        "# Multiplicando\n",
        "resultado = np.dot(matriz_complexa1, matriz_complexa2)\n",
        "\n",
        "print(\"Resultado:\")\n",
        "print(resultado)"
      ],
      "metadata": {
        "id": "oeWRV01aGagD",
        "colab": {
          "base_uri": "https://localhost:8080/"
        },
        "outputId": "524bcd94-11a6-490b-e048-1325414c87d7"
      },
      "execution_count": null,
      "outputs": [
        {
          "output_type": "stream",
          "name": "stdout",
          "text": [
            "Resultado:\n",
            "[[  2.-36.j  50. +0.j]\n",
            " [ 18.-76.j 114.+24.j]]\n"
          ]
        }
      ]
    },
    {
      "cell_type": "markdown",
      "source": [
        "15. Calcule o produto externo de dois vetores usando NumPy em Python"
      ],
      "metadata": {
        "id": "dRM0YHKHr-zx"
      }
    },
    {
      "cell_type": "code",
      "source": [
        "import numpy as np\n",
        "\n",
        "#vetores\n",
        "vetor1 = np.array([1, 2, 3])\n",
        "vetor2 = np.array([4, 5, 6])\n",
        "\n",
        "#produto externo\n",
        "produto_externo = np.outer(vetor1, vetor2)\n",
        "\n",
        "print(\"Produto externo:\")\n",
        "print(produto_externo)"
      ],
      "metadata": {
        "id": "vN9xhk-LGa3k",
        "colab": {
          "base_uri": "https://localhost:8080/"
        },
        "outputId": "239c9101-7eac-4895-d934-fcf9fe13f303"
      },
      "execution_count": null,
      "outputs": [
        {
          "output_type": "stream",
          "name": "stdout",
          "text": [
            "Produto externo:\n",
            "[[ 4  5  6]\n",
            " [ 8 10 12]\n",
            " [12 15 18]]\n"
          ]
        }
      ]
    },
    {
      "cell_type": "markdown",
      "source": [
        "16. Calcule produtos internos, externos e cruzados de matrizes e vetores usando NumPy"
      ],
      "metadata": {
        "id": "lrXvAG4FsDF9"
      }
    },
    {
      "cell_type": "code",
      "source": [
        "import numpy as np\n",
        "\n",
        "# Vetores\n",
        "vetor1 = np.array([1, 2, 3])\n",
        "vetor2 = np.array([4, 5, 6])\n",
        "\n",
        "# Produto interno\n",
        "produto_interno = np.dot(vetor1, vetor2)\n",
        "print(\"Produto interno:\", produto_interno)\n",
        "\n",
        "# Produto externo\n",
        "produto_externo = np.outer(vetor1, vetor2)\n",
        "print(\"\\nProduto externo:\")\n",
        "print(produto_externo)\n",
        "\n",
        "# Produto cruzado\n",
        "vetord1 = np.array([1, 0, 0])\n",
        "vetord2 = np.array([0, 1, 0])\n",
        "produto_cruzado = np.cross(vetord1, vetord2)\n",
        "print(\"\\nProduto cruzado:\")\n",
        "print(produto_cruzado)\n"
      ],
      "metadata": {
        "id": "t2AGAUM7GbY8",
        "colab": {
          "base_uri": "https://localhost:8080/"
        },
        "outputId": "a5593e2d-5f62-48b0-a7a6-16778ba55750"
      },
      "execution_count": null,
      "outputs": [
        {
          "output_type": "stream",
          "name": "stdout",
          "text": [
            "Produto interno: 32\n",
            "\n",
            "Produto externo:\n",
            "[[ 4  5  6]\n",
            " [ 8 10 12]\n",
            " [12 15 18]]\n",
            "\n",
            "Produto cruzado:\n",
            "[0 0 1]\n"
          ]
        }
      ]
    },
    {
      "cell_type": "markdown",
      "source": [
        "17. Calcule a matriz de covariância de duas matrizes NumPy fornecidas"
      ],
      "metadata": {
        "id": "DPb7yur5sF8w"
      }
    },
    {
      "cell_type": "code",
      "source": [
        "import numpy as np\n",
        "\n",
        "# matrizes\n",
        "matriz1 = np.array([[1, 2, 3], [4, 5, 6], [7, 8, 9]])\n",
        "\n",
        "matriz2 = np.array([[9, 8, 7], [6, 5, 4], [3, 2, 1]])\n",
        "\n",
        "#covariância\n",
        "covariancia = np.cov(matriz1, matriz2)\n",
        "\n",
        "print(\"Matriz de covariância:\")\n",
        "print(covariancia)"
      ],
      "metadata": {
        "id": "yp-E9Qi7Gbx7",
        "colab": {
          "base_uri": "https://localhost:8080/"
        },
        "outputId": "dd7d9ea9-95d7-42f5-90ca-8796813947a5"
      },
      "execution_count": null,
      "outputs": [
        {
          "output_type": "stream",
          "name": "stdout",
          "text": [
            "Matriz de covariância:\n",
            "[[ 1.  1.  1. -1. -1. -1.]\n",
            " [ 1.  1.  1. -1. -1. -1.]\n",
            " [ 1.  1.  1. -1. -1. -1.]\n",
            " [-1. -1. -1.  1.  1.  1.]\n",
            " [-1. -1. -1.  1.  1.  1.]\n",
            " [-1. -1. -1.  1.  1.  1.]]\n"
          ]
        }
      ]
    },
    {
      "cell_type": "markdown",
      "source": [
        "18. Converter matriz de covariância em matriz de correlação usando Python"
      ],
      "metadata": {
        "id": "8RajSs-SsIV3"
      }
    },
    {
      "cell_type": "code",
      "source": [
        "import numpy as np\n",
        "\n",
        "# matriz\n",
        "covariancia = np.array([[2, 1], [1, 3]])\n",
        "\n",
        "# Calculo\n",
        "cov_diagonal = np.diag(covariancia)\n",
        "desvios_padrao = np.sqrt(cov_diagonal)\n",
        "matriz_correlacao = covariancia / np.outer(desvios_padrao, desvios_padrao)\n",
        "\n",
        "print(\"Matriz de correlação:\")\n",
        "print(matriz_correlacao)"
      ],
      "metadata": {
        "id": "SBRvwpTPGcUT",
        "colab": {
          "base_uri": "https://localhost:8080/"
        },
        "outputId": "fae4b4e3-9038-44e0-965c-9a949fce88db"
      },
      "execution_count": null,
      "outputs": [
        {
          "output_type": "stream",
          "name": "stdout",
          "text": [
            "Matriz de correlação:\n",
            "[[1.         0.40824829]\n",
            " [0.40824829 1.        ]]\n"
          ]
        }
      ]
    },
    {
      "cell_type": "markdown",
      "source": [
        "19. Calcule o produto Kronecker de duas matrizes NumPy multidimensionais"
      ],
      "metadata": {
        "id": "-OiUw8c5sKhL"
      }
    },
    {
      "cell_type": "code",
      "source": [
        "import numpy as np\n",
        "\n",
        "#matrizes\n",
        "matriz1 = np.array([[1, 2],[3, 4]])\n",
        "\n",
        "matriz2 = np.array([[5, 6],[7, 8]])\n",
        "\n",
        "#produto Kronecker\n",
        "produto_kronecker = np.kron(matriz1, matriz2)\n",
        "\n",
        "print(\"Produto Kronecker:\")\n",
        "print(produto_kronecker)"
      ],
      "metadata": {
        "id": "BKlafj2mGctu",
        "colab": {
          "base_uri": "https://localhost:8080/"
        },
        "outputId": "0a5c44d8-6e72-4660-fbd3-659701d394f7"
      },
      "execution_count": null,
      "outputs": [
        {
          "output_type": "stream",
          "name": "stdout",
          "text": [
            "Produto Kronecker:\n",
            "[[ 5  6 10 12]\n",
            " [ 7  8 14 16]\n",
            " [15 18 20 24]\n",
            " [21 24 28 32]]\n"
          ]
        }
      ]
    },
    {
      "cell_type": "markdown",
      "source": [
        "20. Converta a matriz em uma lista"
      ],
      "metadata": {
        "id": "0X0Cpg2IsMvP"
      }
    },
    {
      "cell_type": "code",
      "source": [
        "import numpy as np\n",
        "\n",
        "#matriz\n",
        "matriz = np.array([[1, 2, 3],[4, 5, 6],[7, 8, 9]])\n",
        "\n",
        "# matriz em lista\n",
        "lista = matriz.tolist()\n",
        "\n",
        "print(\"Matriz original:\")\n",
        "print(matriz)\n",
        "\n",
        "print(\"\\nLista resultante:\")\n",
        "print(lista)"
      ],
      "metadata": {
        "id": "uSOH50ImGeIu",
        "colab": {
          "base_uri": "https://localhost:8080/"
        },
        "outputId": "8b7cd30b-b500-42bb-ad29-08ff04871081"
      },
      "execution_count": null,
      "outputs": [
        {
          "output_type": "stream",
          "name": "stdout",
          "text": [
            "Matriz original:\n",
            "[[1 2 3]\n",
            " [4 5 6]\n",
            " [7 8 9]]\n",
            "\n",
            "Lista resultante:\n",
            "[[1, 2, 3], [4, 5, 6], [7, 8, 9]]\n"
          ]
        }
      ]
    },
    {
      "cell_type": "markdown",
      "source": [
        "*   **NumPy Indexing**\n",
        "\n",
        "1. Substitua os elementos da matriz NumPy que não satisfazem a condição fornecida"
      ],
      "metadata": {
        "id": "ixjewGuBseTq"
      }
    },
    {
      "cell_type": "code",
      "source": [
        "#numpy.where()\n",
        "import numpy as np\n",
        "\n",
        "# Criando uma matriz de exemplo\n",
        "m = np.array([[1, 2, 3], [4, 5, 6], [7, 8, 9]])\n",
        "\n",
        "# Definindo uma condição (por exemplo, substituir valores maiores que 6 por 0)\n",
        "condicao = m > 6\n",
        "\n",
        "# Substituindo os valores que não atendem à condição por 0\n",
        "m_substituida = np.where(condicao, m, 0)\n",
        "\n",
        "print(\"Matriz original:\")\n",
        "print(m)\n",
        "print(\"\\nMatriz após substituição:\")\n",
        "print(m_substituida)\n"
      ],
      "metadata": {
        "colab": {
          "base_uri": "https://localhost:8080/"
        },
        "id": "dgxu0q7qnwdu",
        "outputId": "3b57a6b0-fe82-4e45-9e66-b202bd39449a"
      },
      "execution_count": null,
      "outputs": [
        {
          "output_type": "stream",
          "name": "stdout",
          "text": [
            "Matriz original:\n",
            "[[1 2 3]\n",
            " [4 5 6]\n",
            " [7 8 9]]\n",
            "\n",
            "Matriz após substituição:\n",
            "[[0 0 0]\n",
            " [0 0 0]\n",
            " [7 8 9]]\n"
          ]
        }
      ]
    },
    {
      "cell_type": "markdown",
      "source": [
        "2. Retornar os índices dos elementos onde a condição dada é satisfeita"
      ],
      "metadata": {
        "id": "Ip2K6eN9soN0"
      }
    },
    {
      "cell_type": "code",
      "source": [
        "#numpy.where()\n",
        "import numpy as np\n",
        "\n",
        "# Criando uma matriz de exemplo\n",
        "m = np.array([[1, 2, 3], [4, 5, 6], [7, 8, 9]])\n",
        "\n",
        "# Definindo uma condição (por exemplo, substituir valores maiores que 6 por 0)\n",
        "cond = m > 6\n",
        "\n",
        "# Substituindo os valores que não atendem à condição por 0\n",
        "i_satisfatorios = np.where(cond)\n",
        "\n",
        "print(\"Matriz original:\")\n",
        "print(m)\n",
        "print(\"\\nÍndices dos elementos que atendem à condição:\")\n",
        "print(i_satisfatorios)\n"
      ],
      "metadata": {
        "colab": {
          "base_uri": "https://localhost:8080/"
        },
        "id": "V5FP7fYjo9Lx",
        "outputId": "d03513ad-d79f-4073-9111-495d28eb2f7c"
      },
      "execution_count": null,
      "outputs": [
        {
          "output_type": "stream",
          "name": "stdout",
          "text": [
            "Matriz original:\n",
            "[[1 2 3]\n",
            " [4 5 6]\n",
            " [7 8 9]]\n",
            "\n",
            "Índices dos elementos que atendem à condição:\n",
            "(array([2, 2, 2]), array([0, 1, 2]))\n"
          ]
        }
      ]
    },
    {
      "cell_type": "markdown",
      "source": [
        "3. Substitua os valores NaN pela média das colunas"
      ],
      "metadata": {
        "id": "t1fdLXfWs_lA"
      }
    },
    {
      "cell_type": "code",
      "source": [
        "import numpy as np\n",
        "\n",
        "# Criando uma matriz de exemplo com valores NaN\n",
        "m = np.array([[1, 2, np.nan], [4, np.nan, 6], [np.nan, 8, 9]])\n",
        "\n",
        "# Calculando a média das colunas\n",
        "media_colunas = np.nanmean(m, axis=0)\n",
        "\n",
        "# Substituindo os valores NaN pela média das colunas\n",
        "for i in range(m.shape[1]):\n",
        "    m[:, i][np.isnan(m[:, i])] = media_colunas[i]\n",
        "\n",
        "print(\"Matriz após substituição:\")\n",
        "print(m)\n"
      ],
      "metadata": {
        "colab": {
          "base_uri": "https://localhost:8080/"
        },
        "id": "OSdZpU5nplPw",
        "outputId": "31ed4457-8ea4-4579-dbe9-948e35c8b0b4"
      },
      "execution_count": null,
      "outputs": [
        {
          "output_type": "stream",
          "name": "stdout",
          "text": [
            "Matriz após substituição:\n",
            "[[1.  2.  7.5]\n",
            " [4.  5.  6. ]\n",
            " [2.5 8.  9. ]]\n"
          ]
        }
      ]
    },
    {
      "cell_type": "markdown",
      "source": [
        "4. Substitua o valor negativo por zero na matriz numpy"
      ],
      "metadata": {
        "id": "zZchAs7jtDLD"
      }
    },
    {
      "cell_type": "code",
      "source": [
        "import numpy as np\n",
        "\n",
        "# Criando uma matriz de exemplo\n",
        "array1 = np.array([1, -2, 3, 4, -5, -6])\n",
        "\n",
        "print(\"Matriz inicial:\")\n",
        "print(array1)\n",
        "\n",
        "# Substituindo os valores negativos por zero\n",
        "array1[array1 < 0] = 0\n",
        "\n",
        "print(\"Nova matriz resultante:\")\n",
        "print(array1)\n"
      ],
      "metadata": {
        "colab": {
          "base_uri": "https://localhost:8080/"
        },
        "id": "_kxLtXTswHfi",
        "outputId": "366c80f7-70bb-490b-bc8e-ef4cfd732738"
      },
      "execution_count": null,
      "outputs": [
        {
          "output_type": "stream",
          "name": "stdout",
          "text": [
            "Matriz inicial:\n",
            "[ 1 -2  3  4 -5 -6]\n",
            "Nova matriz resultante:\n",
            "[1 0 3 4 0 0]\n"
          ]
        }
      ]
    },
    {
      "cell_type": "markdown",
      "source": [
        "5. Como obter valores de um array NumPy em determinadas posições de índice?"
      ],
      "metadata": {
        "id": "zMDw1ueRtHiS"
      }
    },
    {
      "cell_type": "code",
      "source": [],
      "metadata": {
        "id": "iHBmfGPz31oE"
      },
      "execution_count": null,
      "outputs": []
    },
    {
      "cell_type": "markdown",
      "source": [
        "6. Encontre índices de elementos iguais a zero em um array NumPy"
      ],
      "metadata": {
        "id": "Qc5N28aPtOKh"
      }
    },
    {
      "cell_type": "code",
      "source": [
        "import numpy as np\n",
        "\n",
        "#array\n",
        "array_numpy = np.array([1, 0, 2, 0, 0, 3, 4, 0])\n",
        "\n",
        "# Encontrar os índices\n",
        "indices_zero = np.where(array_numpy == 0)\n",
        "\n",
        "print(\"Índices iguais a zero:\", indices_zero)\n"
      ],
      "metadata": {
        "colab": {
          "base_uri": "https://localhost:8080/"
        },
        "id": "8zhumTb9wmp_",
        "outputId": "7a71e28a-fbb3-4287-93f0-04aa052206f4"
      },
      "execution_count": null,
      "outputs": [
        {
          "output_type": "stream",
          "name": "stdout",
          "text": [
            "Índices iguais a zero: (array([1, 3, 4, 7]),)\n"
          ]
        }
      ]
    },
    {
      "cell_type": "markdown",
      "source": [
        "7. Como remover colunas na matriz Numpy que contém valores não numéricos?"
      ],
      "metadata": {
        "id": "U0SZCmrYtQq6"
      }
    },
    {
      "cell_type": "code",
      "source": [
        "import numpy as np\n",
        "\n",
        "#matriz\n",
        "matriz = np.array([[1, 2, np.nan],[4, np.nan, 6], [np.nan, 8, 9]])\n",
        "\n",
        "# colunas valores não numéricos\n",
        "colunas_nan = np.any(np.isnan(matriz), axis=0)\n",
        "\n",
        "# Remover as colunas com valores não numéricos\n",
        "matriz_sem_nan = matriz[:, ~colunas_nan]\n",
        "\n",
        "print(\"Matriz original:\")\n",
        "print(matriz)\n",
        "print(\"\\nMatriz sem colunas contendo valores não numéricos:\")\n",
        "print(matriz_sem_nan)\n"
      ],
      "metadata": {
        "colab": {
          "base_uri": "https://localhost:8080/"
        },
        "id": "cyCrWYGwwnMq",
        "outputId": "1a37aeaa-83e8-4ae7-a0ac-452aa1e9acc5"
      },
      "execution_count": null,
      "outputs": [
        {
          "output_type": "stream",
          "name": "stdout",
          "text": [
            "Matriz original:\n",
            "[[ 1.  2. nan]\n",
            " [ 4. nan  6.]\n",
            " [nan  8.  9.]]\n",
            "\n",
            "Matriz sem colunas contendo valores não numéricos:\n",
            "[]\n"
          ]
        }
      ]
    },
    {
      "cell_type": "markdown",
      "source": [
        "8. Como acessar diferentes linhas de um array NumPy multidimensional?"
      ],
      "metadata": {
        "id": "CrjbnMSftS7d"
      }
    },
    {
      "cell_type": "code",
      "source": [
        "import numpy as np\n",
        "\n",
        "#array\n",
        "array_numpy = np.array([[1, 2, 3], [4, 5, 6], [7, 8, 9]])\n",
        "\n",
        "# primeira linha\n",
        "primeira_linha = array_numpy[0]\n",
        "print(\"Primeira linha:\", primeira_linha)\n",
        "\n",
        "#segunda linha\n",
        "segunda_linha = array_numpy[1]\n",
        "print(\"Segunda linha:\", segunda_linha)\n",
        "\n",
        "# terceira linha\n",
        "terceira_linha = array_numpy[2]\n",
        "print(\"Terceira linha:\", terceira_linha)\n"
      ],
      "metadata": {
        "colab": {
          "base_uri": "https://localhost:8080/"
        },
        "id": "r_YJISE9wnk6",
        "outputId": "63eff049-33bb-4238-a8b9-bccd79c723ee"
      },
      "execution_count": null,
      "outputs": [
        {
          "output_type": "stream",
          "name": "stdout",
          "text": [
            "Primeira linha: [1 2 3]\n",
            "Segunda linha: [4 5 6]\n",
            "Terceira linha: [7 8 9]\n"
          ]
        }
      ]
    },
    {
      "cell_type": "markdown",
      "source": [
        "9. Obtenha números de linha da matriz NumPy com elemento maior que X"
      ],
      "metadata": {
        "id": "4ol36843tVjS"
      }
    },
    {
      "cell_type": "code",
      "source": [
        "import numpy as np\n",
        "\n",
        "#matriz\n",
        "matriz = np.array([[1, 2, 3],[4, 5, 6],[7, 8, 9]])\n",
        "\n",
        "# valor de X\n",
        "X = 5\n",
        "\n",
        "# Encontrar os números das linhas\n",
        "linhas_maior_que_X = np.where(matriz > X)[0]\n",
        "\n",
        "print(\"Números das linhas com elementos maiores que\", X, \":\")\n",
        "print(linhas_maior_que_X)\n"
      ],
      "metadata": {
        "colab": {
          "base_uri": "https://localhost:8080/"
        },
        "id": "ZW2CCzNywoLC",
        "outputId": "62226d3a-31bb-4717-b860-8c88fc293c91"
      },
      "execution_count": null,
      "outputs": [
        {
          "output_type": "stream",
          "name": "stdout",
          "text": [
            "Números das linhas com elementos maiores que 5 :\n",
            "[1 2 2 2]\n"
          ]
        }
      ]
    },
    {
      "cell_type": "markdown",
      "source": [
        "10. Preencha as diagonais do array NumPy"
      ],
      "metadata": {
        "id": "Nn4bMmzutYN8"
      }
    },
    {
      "cell_type": "code",
      "source": [
        "import numpy as np\n",
        "\n",
        "# array\n",
        "array_numpy = np.zeros((3, 3))\n",
        "\n",
        "# Preencher as diagonais\n",
        "diagonal = 5\n",
        "np.fill_diagonal(array_numpy, diagonal)\n",
        "\n",
        "print(array_numpy)\n"
      ],
      "metadata": {
        "colab": {
          "base_uri": "https://localhost:8080/"
        },
        "id": "C3nmKvGSwo3I",
        "outputId": "4418eb03-447a-4c15-ea3d-d2a59f44cfad"
      },
      "execution_count": null,
      "outputs": [
        {
          "output_type": "stream",
          "name": "stdout",
          "text": [
            "[[5. 0. 0.]\n",
            " [0. 5. 0.]\n",
            " [0. 0. 5.]]\n"
          ]
        }
      ]
    },
    {
      "cell_type": "markdown",
      "source": [
        "11. Verifique os elementos presentes no array NumPy"
      ],
      "metadata": {
        "id": "PY0eI1dmtbLN"
      }
    },
    {
      "cell_type": "code",
      "source": [
        "import numpy as np\n",
        "\n",
        "# array Numpy\n",
        "array_numpy = np.array([1, 2, 2, 3, 3, 3, 4, 4, 4, 4])\n",
        "\n",
        "# Encontrar os elementos\n",
        "elementos_unicos, contagens = np.unique(array_numpy, return_counts=True)\n",
        "\n",
        "# Exibir os elementos\n",
        "for elemento, contagem in zip(elementos_unicos, contagens):\n",
        "    print(f\"Elemento: {elemento}, Contagem: {contagem}\")"
      ],
      "metadata": {
        "colab": {
          "base_uri": "https://localhost:8080/"
        },
        "id": "uL7XC4hIwpZr",
        "outputId": "41f10406-9291-42f4-8526-eba1e81dd630"
      },
      "execution_count": null,
      "outputs": [
        {
          "output_type": "stream",
          "name": "stdout",
          "text": [
            "Elemento: 1, Contagem: 1\n",
            "Elemento: 2, Contagem: 2\n",
            "Elemento: 3, Contagem: 3\n",
            "Elemento: 4, Contagem: 4\n"
          ]
        }
      ]
    },
    {
      "cell_type": "markdown",
      "source": [
        "12. Índice de array combinado por índice"
      ],
      "metadata": {
        "id": "XpSRh9x6tdUr"
      }
    },
    {
      "cell_type": "code",
      "source": [
        "array1 = [1, 2, 3, 4]\n",
        "array2 = ['a', 'b', 'c', 'd']\n",
        "\n",
        "resultado = [(array1[i], array2[i]) for i in range(min(len(array1), len(array2)))]\n",
        "\n",
        "print(resultado)"
      ],
      "metadata": {
        "colab": {
          "base_uri": "https://localhost:8080/"
        },
        "id": "7zrIICT0wp6N",
        "outputId": "7e52c1aa-e283-4080-a63b-2f29decf1373"
      },
      "execution_count": null,
      "outputs": [
        {
          "output_type": "stream",
          "name": "stdout",
          "text": [
            "[(1, 'a'), (2, 'b'), (3, 'c'), (4, 'd')]\n"
          ]
        }
      ]
    },
    {
      "cell_type": "markdown",
      "source": [
        "*   **NumPy Linear Algebra**\n",
        "\n",
        "1. Encontre uma matriz ou norma vetorial usando NumPy"
      ],
      "metadata": {
        "id": "goGaU8Dktfre"
      }
    },
    {
      "cell_type": "code",
      "source": [
        "import numpy as np\n",
        "\n",
        "# matriz\n",
        "matriz = np.array([[1, 2, 3], [4, 5, 6], [7, 8, 9]])\n",
        "\n",
        "# Calculo\n",
        "norma_vetorial = np.linalg.norm(matriz)\n",
        "norma_vetorial_decimal = np.round(norma_vetorial, decimals = 2)\n",
        "print(\"Matriz:\")\n",
        "print(matriz)\n",
        "print(\"\\nNorma Vetorial da Matriz:\", norma_vetorial_decimal)\n"
      ],
      "metadata": {
        "colab": {
          "base_uri": "https://localhost:8080/"
        },
        "id": "X8Jbe-vxzRK1",
        "outputId": "7e748655-b167-4a56-cfa8-024cba966ff1"
      },
      "execution_count": null,
      "outputs": [
        {
          "output_type": "stream",
          "name": "stdout",
          "text": [
            "Matriz:\n",
            "[[1 2 3]\n",
            " [4 5 6]\n",
            " [7 8 9]]\n",
            "\n",
            "Norma Vetorial da Matriz: 16.88\n"
          ]
        }
      ]
    },
    {
      "cell_type": "markdown",
      "source": [
        "2. Calcule a decomposição QR de uma determinada matriz usando NumPy"
      ],
      "metadata": {
        "id": "3EJGcPlBtxHd"
      }
    },
    {
      "cell_type": "code",
      "source": [
        "import numpy as np\n",
        "\n",
        "# matriz\n",
        "matriz = np.array([[1, 2, 3], [4, 5, 6],[7, 8, 9]])\n",
        "\n",
        "# Calculo\n",
        "Q, R = np.linalg.qr(matriz)\n",
        "\n",
        "print(\"Matriz Q:\")\n",
        "print(Q)\n",
        "print(\"\\nMatriz R:\")\n",
        "print(R)\n"
      ],
      "metadata": {
        "id": "ae5rt7WBvWci",
        "colab": {
          "base_uri": "https://localhost:8080/"
        },
        "outputId": "757d2f20-0f08-4212-ed02-20ad6fb90937"
      },
      "execution_count": null,
      "outputs": [
        {
          "output_type": "stream",
          "name": "stdout",
          "text": [
            "Matriz Q:\n",
            "[[-0.12309149  0.90453403  0.40824829]\n",
            " [-0.49236596  0.30151134 -0.81649658]\n",
            " [-0.86164044 -0.30151134  0.40824829]]\n",
            "\n",
            "Matriz R:\n",
            "[[-8.12403840e+00 -9.60113630e+00 -1.10782342e+01]\n",
            " [ 0.00000000e+00  9.04534034e-01  1.80906807e+00]\n",
            " [ 0.00000000e+00  0.00000000e+00 -8.88178420e-16]]\n"
          ]
        }
      ]
    },
    {
      "cell_type": "markdown",
      "source": [
        "3. Calcule o número de condição de uma determinada matriz usando NumPy"
      ],
      "metadata": {
        "id": "JyXfBCVVuHvS"
      }
    },
    {
      "cell_type": "code",
      "source": [
        "import numpy as np\n",
        "\n",
        "# matriz\n",
        "matriz = np.array([[1, 2, 3],[4, 5, 6],[7, 8, 9]])\n",
        "\n",
        "# Calculo\n",
        "numero_condicao = np.linalg.cond(matriz)\n",
        "\n",
        "\n",
        "print(\"Matriz:\")\n",
        "print(matriz)\n",
        "print(\"\\nNúmero de Condição da Matriz:\", numero_condicao)\n"
      ],
      "metadata": {
        "colab": {
          "base_uri": "https://localhost:8080/"
        },
        "id": "6zJwmJR3zRpl",
        "outputId": "b7a29911-544d-4efb-a4ac-266e0a548528"
      },
      "execution_count": null,
      "outputs": [
        {
          "output_type": "stream",
          "name": "stdout",
          "text": [
            "Matriz:\n",
            "[[1 2 3]\n",
            " [4 5 6]\n",
            " [7 8 9]]\n",
            "\n",
            "Número de Condição da Matriz: 3.813147060626918e+16\n"
          ]
        }
      ]
    },
    {
      "cell_type": "markdown",
      "source": [
        "4. Calcular os autovalores e os autovetores corretos de uma determinada matriz quadrada usando NumPy?"
      ],
      "metadata": {
        "id": "38dJjEBwuK1I"
      }
    },
    {
      "cell_type": "code",
      "source": [
        "import numpy as np\n",
        "\n",
        "# matriz\n",
        "matriz = np.array([[1, 2, 3],[4, 5, 6],[7, 8, 9]])\n",
        "\n",
        "# Calculo\n",
        "autovalores, autovetores = np.linalg.eig(matriz)\n",
        "\n",
        "print(\"Autovalores:\")\n",
        "print(autovalores)\n",
        "print(\"\\nAutovetores:\")\n",
        "print(autovetores)\n"
      ],
      "metadata": {
        "colab": {
          "base_uri": "https://localhost:8080/"
        },
        "id": "GVzsWS-HzSyC",
        "outputId": "e3978451-f88c-4015-87e5-b2093cb25539"
      },
      "execution_count": null,
      "outputs": [
        {
          "output_type": "stream",
          "name": "stdout",
          "text": [
            "Autovalores:\n",
            "[ 1.61168440e+01 -1.11684397e+00 -1.30367773e-15]\n",
            "\n",
            "Autovetores:\n",
            "[[-0.23197069 -0.78583024  0.40824829]\n",
            " [-0.52532209 -0.08675134 -0.81649658]\n",
            " [-0.8186735   0.61232756  0.40824829]]\n"
          ]
        }
      ]
    },
    {
      "cell_type": "markdown",
      "source": [
        "5. Calcule a distância euclidiana usando NumPy"
      ],
      "metadata": {
        "id": "iWzPCFRNuNO5"
      }
    },
    {
      "cell_type": "code",
      "source": [
        "import numpy as np\n",
        "\n",
        "#dois pontos no espaço\n",
        "ponto1 = np.array([1, 2, 3])\n",
        "ponto2 = np.array([4, 5, 6])\n",
        "\n",
        "# distância euclidiana\n",
        "distancia = np.linalg.norm(ponto1 - ponto2)\n",
        "\n",
        "print(\"Distância Euclidiana entre os pontos:\", distancia)\n"
      ],
      "metadata": {
        "colab": {
          "base_uri": "https://localhost:8080/"
        },
        "id": "UvuzZ0ivzTQ4",
        "outputId": "dc24bcc8-4653-42e2-f73b-ef6cd9e17ac7"
      },
      "execution_count": null,
      "outputs": [
        {
          "output_type": "stream",
          "name": "stdout",
          "text": [
            "Distância Euclidiana entre os pontos: 5.196152422706632\n"
          ]
        }
      ]
    },
    {
      "cell_type": "markdown",
      "source": [
        "*   **NumPy Random**\n",
        "\n",
        "1. Crie um array Numpy com valores aleatórios"
      ],
      "metadata": {
        "id": "uIwd5MhNvXPC"
      }
    },
    {
      "cell_type": "code",
      "source": [
        "import numpy as np\n",
        "\n",
        "# array\n",
        "array_aleatorio = np.random.rand(5)\n",
        "print(\"Array aleatório entre 0 e 1:\")\n",
        "print(array_aleatorio)\n"
      ],
      "metadata": {
        "colab": {
          "base_uri": "https://localhost:8080/"
        },
        "id": "sTi2F1HvzTzL",
        "outputId": "7fcd5972-d9e3-4e0f-8018-b2d37b621cea"
      },
      "execution_count": null,
      "outputs": [
        {
          "output_type": "stream",
          "name": "stdout",
          "text": [
            "Array aleatório entre 0 e 1:\n",
            "[0.90699742 0.87106887 0.48449409 0.42351855 0.53230239]\n"
          ]
        }
      ]
    },
    {
      "cell_type": "markdown",
      "source": [
        "2. Como escolher elementos da lista com probabilidades diferentes usando NumPy?"
      ],
      "metadata": {
        "id": "6dzjP1QTvmHJ"
      }
    },
    {
      "cell_type": "code",
      "source": [
        "import numpy as np\n",
        "\n",
        "num_list = [10, 20, 30, 40, 50]\n",
        "num = np.random.choice(num_list)\n",
        "print(num)\n"
      ],
      "metadata": {
        "id": "iTCW1antzUOY",
        "colab": {
          "base_uri": "https://localhost:8080/"
        },
        "outputId": "8191d706-a243-4b5b-fdc1-600ad7c8f7c7"
      },
      "execution_count": null,
      "outputs": [
        {
          "output_type": "stream",
          "name": "stdout",
          "text": [
            "20\n"
          ]
        }
      ]
    },
    {
      "cell_type": "markdown",
      "source": [
        "3. Como obter uma escolha aleatória ponderada em Python?"
      ],
      "metadata": {
        "id": "1Txobphcvtpp"
      }
    },
    {
      "cell_type": "code",
      "source": [
        "from numpy.random import choice\n",
        "\n",
        "lista = [100, 200, 300, 400, 500]\n",
        "aleatLista = choice(lista, 5, p=[0.05, 0.1, 0.15, 0.2, 0.5])\n",
        "print(aleatLista)\n"
      ],
      "metadata": {
        "id": "ndLABCvZzU3J",
        "colab": {
          "base_uri": "https://localhost:8080/"
        },
        "outputId": "fb4008b2-d53d-4d47-cf9c-7d680da31d25"
      },
      "execution_count": null,
      "outputs": [
        {
          "output_type": "stream",
          "name": "stdout",
          "text": [
            "[500 200 100 500 300]\n"
          ]
        }
      ]
    },
    {
      "cell_type": "markdown",
      "source": [
        "4. Gere números aleatórios a partir da distribuição uniforme usando NumPy"
      ],
      "metadata": {
        "id": "NvW7aF2fvw1n"
      }
    },
    {
      "cell_type": "code",
      "source": [
        "import numpy as np\n",
        "\n",
        "# Gerando 10 números aleatórios uniformemente distribuídos entre 0 e 1\n",
        "numeros_aleatorios = np.random.uniform(low=0, high=1, size=10)\n",
        "\n",
        "print(\"Números aleatórios gerados:\")\n",
        "print(numeros_aleatorios)\n"
      ],
      "metadata": {
        "id": "8hNwUoWzzV7c",
        "colab": {
          "base_uri": "https://localhost:8080/"
        },
        "outputId": "2cf1886c-a37e-43a2-aa76-fa339bc7975d"
      },
      "execution_count": null,
      "outputs": [
        {
          "output_type": "stream",
          "name": "stdout",
          "text": [
            "Números aleatórios gerados:\n",
            "[0.19977703 0.99681717 0.03161426 0.13800896 0.31756402 0.95498965\n",
            " 0.30747118 0.68546341 0.3074453  0.2828428 ]\n"
          ]
        }
      ]
    },
    {
      "cell_type": "markdown",
      "source": [
        "5. Obtenha elementos aleatórios da distribuição geométrica"
      ],
      "metadata": {
        "id": "twjwKhX7vzWE"
      }
    },
    {
      "cell_type": "code",
      "source": [
        "import numpy as np\n",
        "\n",
        "# probabilidade de sucesso\n",
        "p = 0.3\n",
        "#  tamanho da amostra\n",
        "size = 10\n",
        "\n",
        "# elementos s da distribuição geométrica\n",
        "amostra_geom = np.random.geometric(p, size)\n",
        "\n",
        "print(\"Elementos aleatórios da distribuição geométrica:\", amostra_geom)"
      ],
      "metadata": {
        "id": "oX39OaY3zWXA",
        "colab": {
          "base_uri": "https://localhost:8080/"
        },
        "outputId": "d00d3b53-5a50-4315-c7e4-896421c7c137"
      },
      "execution_count": null,
      "outputs": [
        {
          "output_type": "stream",
          "name": "stdout",
          "text": [
            "Elementos aleatórios da distribuição geométrica: [2 3 2 8 1 3 4 2 1 1]\n"
          ]
        }
      ]
    },
    {
      "cell_type": "markdown",
      "source": [
        "6. Obtenha elementos aleatórios da distribuição de Laplace"
      ],
      "metadata": {
        "id": "W6TVKECEv1p4"
      }
    },
    {
      "cell_type": "code",
      "source": [
        "import numpy as np\n",
        "\n",
        "# parâmetros da distribuição de Laplace\n",
        "mu = 0  # parâmetro de localização\n",
        "b = 1   # parâmetro de escala\n",
        "size = 10  # tamanho da amostra\n",
        "\n",
        "# elementos aleatórios da distribuição de Laplace\n",
        "amostra_laplace = np.random.laplace(mu, b, size)\n",
        "\n",
        "print(\"Elementos aleatórios da distribuição de Laplace:\", amostra_laplace)"
      ],
      "metadata": {
        "id": "-D5_wtiCzWzK",
        "colab": {
          "base_uri": "https://localhost:8080/"
        },
        "outputId": "c2838b3c-218a-437a-f3d8-0492e0063369"
      },
      "execution_count": null,
      "outputs": [
        {
          "output_type": "stream",
          "name": "stdout",
          "text": [
            "Elementos aleatórios da distribuição de Laplace: [-2.58760572  0.22864946 -2.56591284  1.4639192  -0.95767177  2.37218993\n",
            " -1.60039162  1.27024424  2.6505325   0.65519168]\n"
          ]
        }
      ]
    },
    {
      "cell_type": "markdown",
      "source": [
        "7. Retornar uma matriz de valores aleatórios de uma distribuição uniforme"
      ],
      "metadata": {
        "id": "L-lpI26Fv4tY"
      }
    },
    {
      "cell_type": "code",
      "source": [
        "import numpy as np\n",
        "\n",
        "# parâmetros da distribuição uniforme\n",
        "low = 0   # limite inferior\n",
        "high = 10 # limite superior\n",
        "shape = (3, 3)  # matriz 3x3\n",
        "\n",
        "#  matriz de valores de uma distribuição uniforme\n",
        "matriz_uniforme = np.random.uniform(low, high, shape)\n",
        "\n",
        "print(\"Matriz de valores aleatórios de uma distribuição uniforme:\")\n",
        "print(matriz_uniforme)"
      ],
      "metadata": {
        "id": "_J1JnD7xzXMf",
        "colab": {
          "base_uri": "https://localhost:8080/"
        },
        "outputId": "bbe60af0-9f89-4071-ddb7-dfc639ebc107"
      },
      "execution_count": null,
      "outputs": [
        {
          "output_type": "stream",
          "name": "stdout",
          "text": [
            "Matriz de valores aleatórios de uma distribuição uniforme:\n",
            "[[7.32992557 1.53244521 7.10545985]\n",
            " [6.57991683 2.24717058 4.53345217]\n",
            " [4.67914987 9.92829429 5.34494414]]\n"
          ]
        }
      ]
    },
    {
      "cell_type": "markdown",
      "source": [
        "8. Retornar uma matriz de valores aleatórios de uma distribuição gaussiana"
      ],
      "metadata": {
        "id": "S3FEEWifwBE7"
      }
    },
    {
      "cell_type": "code",
      "source": [
        "import numpy as np\n",
        "\n",
        "# parâmetros da distribuição gaussiana\n",
        "media = 0  # média\n",
        "desvio_padrao = 1 # desvio padrão\n",
        "shape = (3, 3) # matriz 3x3\n",
        "\n",
        "# matriz de valores  de uma distribuição gaussiana\n",
        "matriz_gaussiana = np.random.normal(media, desvio_padrao, shape)\n",
        "\n",
        "print(\"Matriz de valores aleatórios de uma distribuição gaussiana:\")\n",
        "print(matriz_gaussiana)"
      ],
      "metadata": {
        "id": "6EnDr-9PzXsQ",
        "colab": {
          "base_uri": "https://localhost:8080/"
        },
        "outputId": "5202a526-d1fd-4765-95f9-6aa434ab58e5"
      },
      "execution_count": null,
      "outputs": [
        {
          "output_type": "stream",
          "name": "stdout",
          "text": [
            "Matriz de valores aleatórios de uma distribuição gaussiana:\n",
            "[[ 0.09471704 -0.18198838  0.61665671]\n",
            " [ 2.19326156  1.51619886  0.61540742]\n",
            " [-0.96553818  0.5417703  -0.47450377]]\n"
          ]
        }
      ]
    },
    {
      "cell_type": "markdown",
      "source": [
        "*   **NumPy Sorting and Searching**\n",
        "\n",
        "1. Como obter os índices do array classificado usando NumPy em Python?"
      ],
      "metadata": {
        "id": "i3If4q_XwFdO"
      }
    },
    {
      "cell_type": "code",
      "source": [
        "import numpy as np\n",
        "\n",
        "# Exemplo 1: Obtendo os índices do array classificado\n",
        "array1 = np.array([10, 52, 62, 16, 16, 54, 453])\n",
        "indices1 = np.argsort(array1)\n",
        "print(\"Índices classificados:\", indices1)\n",
        "\n",
        "# Exemplo 2: Outro array\n",
        "array2 = np.array([1, 2, 3, 4, 5])\n",
        "indices2 = np.argsort(array2)\n",
        "print(\"Índices classificados:\", indices2)\n"
      ],
      "metadata": {
        "id": "QUzEGUv33MIR",
        "colab": {
          "base_uri": "https://localhost:8080/"
        },
        "outputId": "a0373284-0717-48d8-8a33-aa622e5ccafb"
      },
      "execution_count": null,
      "outputs": [
        {
          "output_type": "stream",
          "name": "stdout",
          "text": [
            "Índices classificados: [0 3 4 1 5 2 6]\n",
            "Índices classificados: [0 1 2 3 4]\n"
          ]
        }
      ]
    },
    {
      "cell_type": "markdown",
      "source": [
        "2. Encontrando os k menores valores de um array NumPy"
      ],
      "metadata": {
        "id": "QuQZYH8CwSbM"
      }
    },
    {
      "cell_type": "code",
      "source": [
        "import numpy as np\n",
        "\n",
        "arr = np.array([23, 12, 1, 3, 4, 5, 6])\n",
        "k = 4\n",
        "sorted_array = np.sort(arr)\n",
        "print(f\"{k} menores elementos da matriz:\", sorted_array[:k])\n"
      ],
      "metadata": {
        "colab": {
          "base_uri": "https://localhost:8080/"
        },
        "id": "oxRLkMX-XGn1",
        "outputId": "db345870-0657-4d10-d978-761f86a37718"
      },
      "execution_count": null,
      "outputs": [
        {
          "output_type": "stream",
          "name": "stdout",
          "text": [
            "4 menores elementos da matriz: [1 3 4 5]\n"
          ]
        }
      ]
    },
    {
      "cell_type": "markdown",
      "source": [
        "3. Como obter os n maiores valores de um array usando NumPy?"
      ],
      "metadata": {
        "id": "tPU1FHR1wVrq"
      }
    },
    {
      "cell_type": "code",
      "source": [
        "import numpy as np\n",
        "\n",
        "arr = np.array([2, 0, 1, 5, 4, 1, 9])\n",
        "n = 1\n",
        "sorted_array = np.sort(arr)\n",
        "print(f\"{n} maior valor:\", sorted_array[-n])"
      ],
      "metadata": {
        "colab": {
          "base_uri": "https://localhost:8080/"
        },
        "id": "QxOxKlDeXp_C",
        "outputId": "80711d9e-8754-4ff1-9e58-c8d0edb61c60"
      },
      "execution_count": null,
      "outputs": [
        {
          "output_type": "stream",
          "name": "stdout",
          "text": [
            "1 maior valor: 9\n"
          ]
        }
      ]
    },
    {
      "cell_type": "markdown",
      "source": [
        "4. Classifique os valores em uma matriz"
      ],
      "metadata": {
        "id": "SxujXqKKwXhp"
      }
    },
    {
      "cell_type": "code",
      "source": [
        "import numpy as np\n",
        "arr = np.array([10, 5, 8, 3, 1])\n",
        "sorted_arr = np.sort(arr)\n",
        "print(\"Matriz classificada:\", sorted_arr)\n"
      ],
      "metadata": {
        "colab": {
          "base_uri": "https://localhost:8080/"
        },
        "id": "HCyl_4p5XrdB",
        "outputId": "843f8cb8-7181-44da-8d9b-d6aa95c496cf"
      },
      "execution_count": null,
      "outputs": [
        {
          "output_type": "stream",
          "name": "stdout",
          "text": [
            "Matriz classificada: [ 1  3  5  8 10]\n"
          ]
        }
      ]
    },
    {
      "cell_type": "markdown",
      "source": [
        "5. Filtrar números inteiros da matriz numpy flutuante"
      ],
      "metadata": {
        "id": "i3pIQNL3wZ9m"
      }
    },
    {
      "cell_type": "code",
      "source": [
        "import numpy as np\n",
        "float_arr = np.array([1.5, 2.7, 3.2, 4.8, 5.1])\n",
        "int_arr = float_arr.astype(int)  # Converte para inteiros\n",
        "print(\"Números inteiros da matriz flutuante:\", int_arr)\n"
      ],
      "metadata": {
        "colab": {
          "base_uri": "https://localhost:8080/"
        },
        "id": "LKHcrK1FXsdw",
        "outputId": "aa026bf2-ac43-42d6-8b1c-fe44fb6c526f"
      },
      "execution_count": null,
      "outputs": [
        {
          "output_type": "stream",
          "name": "stdout",
          "text": [
            "Números inteiros da matriz flutuante: [1 2 3 4 5]\n"
          ]
        }
      ]
    },
    {
      "cell_type": "markdown",
      "source": [
        "6. Encontre os índices em uma matriz classificada"
      ],
      "metadata": {
        "id": "3hoKB_D6wcMU"
      }
    },
    {
      "cell_type": "code",
      "source": [
        "import numpy as np\n",
        "\n",
        "# Exemplo de matriz classificada\n",
        "matriz_classificada = np.array([10, 5, 8, 3, 1])\n",
        "\n",
        "# Obtendo os índices dos elementos classificados\n",
        "indices_classificados = np.argsort(matriz_classificada)\n",
        "\n",
        "print(\"Índices dos elementos classificados:\", indices_classificados)\n"
      ],
      "metadata": {
        "colab": {
          "base_uri": "https://localhost:8080/"
        },
        "id": "n9_gEia0XtFR",
        "outputId": "e8551e9a-6ce0-4b77-a022-0e571f62a6c3"
      },
      "execution_count": null,
      "outputs": [
        {
          "output_type": "stream",
          "name": "stdout",
          "text": [
            "Índices dos elementos classificados: [4 3 1 2 0]\n"
          ]
        }
      ]
    },
    {
      "cell_type": "markdown",
      "source": [
        "*   **NumPy Mathematics**\n",
        "\n",
        "1. Como obter a verdadeira divisão elemento a elemento de um array usando Numpy?"
      ],
      "metadata": {
        "id": "zo7k_rKzwee_"
      }
    },
    {
      "cell_type": "code",
      "source": [
        "import numpy as np\n",
        "\n",
        "array1 = np.array([10, 20, 30])\n",
        "array2 = np.array([2, 5, 3])\n",
        "\n",
        "result = np.true_divide(array1, array2)\n",
        "print(\"Verdadeira divisão:\", result)\n"
      ],
      "metadata": {
        "colab": {
          "base_uri": "https://localhost:8080/"
        },
        "id": "8IWZNoFfml8O",
        "outputId": "939face9-bf27-438c-c539-202c5cb30724"
      },
      "execution_count": null,
      "outputs": [
        {
          "output_type": "stream",
          "name": "stdout",
          "text": [
            "Verdadeira divisão: [ 5.  4. 10.]\n"
          ]
        }
      ]
    },
    {
      "cell_type": "markdown",
      "source": [
        "2. Como calcular o valor absoluto elemento a elemento da matriz NumPy?"
      ],
      "metadata": {
        "id": "HE0BM_Hhwltt"
      }
    },
    {
      "cell_type": "code",
      "source": [
        "import numpy as np\n",
        "\n",
        "arr = np.array([-5, 8, -3, 4])\n",
        "abs_values = np.abs(arr)\n",
        "print(\"Valores absolutos:\", abs_values)"
      ],
      "metadata": {
        "colab": {
          "base_uri": "https://localhost:8080/"
        },
        "id": "ICcub92Ommp5",
        "outputId": "4a9a0d7d-f0da-4367-ccfa-03b104e9dfa2"
      },
      "execution_count": null,
      "outputs": [
        {
          "output_type": "stream",
          "name": "stdout",
          "text": [
            "Valores absolutos: [5 8 3 4]\n"
          ]
        }
      ]
    },
    {
      "cell_type": "markdown",
      "source": [
        "3. Calcule o negativo da matriz NumPy"
      ],
      "metadata": {
        "id": "S0R9AMWawpzT"
      }
    },
    {
      "cell_type": "code",
      "source": [
        "import numpy as np\n",
        "\n",
        "arr = np.array([1, -2, 3, -4])\n",
        "negative_values = -arr\n",
        "print(\"Valores negativos:\", negative_values)\n",
        "\n",
        "\n"
      ],
      "metadata": {
        "colab": {
          "base_uri": "https://localhost:8080/"
        },
        "id": "AT9DtdOGmnI9",
        "outputId": "f4ac274e-944c-4e52-844f-e0b595a1f561"
      },
      "execution_count": null,
      "outputs": [
        {
          "output_type": "stream",
          "name": "stdout",
          "text": [
            "Valores negativos: [-1  2 -3  4]\n"
          ]
        }
      ]
    },
    {
      "cell_type": "markdown",
      "source": [
        "4. Multiplique a matriz numpy 2d correspondente à matriz 1d"
      ],
      "metadata": {
        "id": "YUuThy7Mx1U_"
      }
    },
    {
      "cell_type": "code",
      "source": [
        "import numpy as np\n",
        "\n",
        "vector = np.array([2, 3, 4])\n",
        "matrix = np.array([[1, 2, 3], [4, 5, 6], [7, 8, 9]])\n",
        "\n",
        "result = vector[:, np.newaxis] * matrix\n",
        "print(\"Resultado da multiplicação:\")\n",
        "print(result)\n"
      ],
      "metadata": {
        "colab": {
          "base_uri": "https://localhost:8080/"
        },
        "id": "of8R5ytImnoO",
        "outputId": "88a15d16-5649-4296-969e-03752cf595e9"
      },
      "execution_count": null,
      "outputs": [
        {
          "output_type": "stream",
          "name": "stdout",
          "text": [
            "Resultado da multiplicação:\n",
            "[[ 2  4  6]\n",
            " [12 15 18]\n",
            " [28 32 36]]\n"
          ]
        }
      ]
    },
    {
      "cell_type": "markdown",
      "source": [
        "5. Calcula o produto interno de duas matrizes"
      ],
      "metadata": {
        "id": "Jm5Zn2bQx5Ll"
      }
    },
    {
      "cell_type": "code",
      "source": [
        "import numpy as np\n",
        "\n",
        "matrix1 = np.array([[1, 2], [3, 4]])\n",
        "matrix2 = np.array([[5, 6], [7, 8]])\n",
        "\n",
        "dot_product = np.dot(matrix1, matrix2)\n",
        "print(\"Produto interno das matrizes:\")\n",
        "print(dot_product)\n"
      ],
      "metadata": {
        "colab": {
          "base_uri": "https://localhost:8080/"
        },
        "id": "PK5v7002moLM",
        "outputId": "862b584f-e07c-4dc1-e484-1ace6d750c8c"
      },
      "execution_count": null,
      "outputs": [
        {
          "output_type": "stream",
          "name": "stdout",
          "text": [
            "Produto interno das matrizes:\n",
            "[[19 22]\n",
            " [43 50]]\n"
          ]
        }
      ]
    },
    {
      "cell_type": "markdown",
      "source": [
        "6. Calcule o enésimo percentil da matriz NumP"
      ],
      "metadata": {
        "id": "UsZ_mESyx7-S"
      }
    },
    {
      "cell_type": "code",
      "source": [
        "import numpy as np\n",
        "\n",
        "arr = np.array([10, 20, 30, 40, 50])\n",
        "n = 75  # Percentil desejado (por exemplo, 75%)\n",
        "percentile_value = np.percentile(arr, n)\n",
        "print(f\"{n}º percentil:\", percentile_value)\n"
      ],
      "metadata": {
        "colab": {
          "base_uri": "https://localhost:8080/"
        },
        "id": "-ui3dW9ZnZjL",
        "outputId": "89dc27a8-4b94-40c6-f974-1674e4830324"
      },
      "execution_count": null,
      "outputs": [
        {
          "output_type": "stream",
          "name": "stdout",
          "text": [
            "75º percentil: 40.0\n"
          ]
        }
      ]
    },
    {
      "cell_type": "markdown",
      "source": [
        "7. Calcule a diferença discreta de enésima ordem ao longo do eixo fornecido"
      ],
      "metadata": {
        "id": "dpYaGeNxx-Kh"
      }
    },
    {
      "cell_type": "code",
      "source": [
        "import numpy as np\n",
        "\n",
        "arr = np.array([10, 20, 30, 40, 50])\n",
        "nth_order_diff = np.diff(arr, n=2)  # Diferença de segunda ordem\n",
        "print(f\"Diferença de {n}ª ordem:\", nth_order_diff)\n"
      ],
      "metadata": {
        "colab": {
          "base_uri": "https://localhost:8080/"
        },
        "id": "qkmCfmWBnaD5",
        "outputId": "6fa601bf-a2a0-4c01-fb49-3aa3046e95f6"
      },
      "execution_count": null,
      "outputs": [
        {
          "output_type": "stream",
          "name": "stdout",
          "text": [
            "Diferença de 75ª ordem: [0 0 0]\n"
          ]
        }
      ]
    },
    {
      "cell_type": "markdown",
      "source": [
        "8. Calcule a soma de todas as colunas em uma matriz NumPy 2D"
      ],
      "metadata": {
        "id": "-JICCslByAZ-"
      }
    },
    {
      "cell_type": "code",
      "source": [
        "import numpy as np\n",
        "\n",
        "matrix = np.array([[1, 2, 3], [4, 5, 6], [7, 8, 9]])\n",
        "column_sums = np.sum(matrix, axis=0)\n",
        "print(\"Soma das colunas:\", column_sums)\n"
      ],
      "metadata": {
        "colab": {
          "base_uri": "https://localhost:8080/"
        },
        "id": "biiwSL73najA",
        "outputId": "379618c5-3d4d-4671-ab49-fba5f613e85a"
      },
      "execution_count": null,
      "outputs": [
        {
          "output_type": "stream",
          "name": "stdout",
          "text": [
            "Soma das colunas: [12 15 18]\n"
          ]
        }
      ]
    },
    {
      "cell_type": "markdown",
      "source": [
        "9. Calcule os valores médios de duas matrizes NumPy fornecidas"
      ],
      "metadata": {
        "id": "kDq_pZv6yCtW"
      }
    },
    {
      "cell_type": "code",
      "source": [
        "import numpy as np\n",
        "\n",
        "matrix1 = np.array([[1, 2], [3, 4]])\n",
        "matrix2 = np.array([[5, 6], [7, 8]])\n",
        "\n",
        "mean_matrix1 = np.mean(matrix1)\n",
        "mean_matrix2 = np.mean(matrix2)\n",
        "\n",
        "print(f\"Média da matriz 1: {mean_matrix1}\")\n",
        "print(f\"Média da matriz 2: {mean_matrix2}\")\n",
        "\n",
        "\n"
      ],
      "metadata": {
        "colab": {
          "base_uri": "https://localhost:8080/"
        },
        "id": "-ps6TDKBnbIE",
        "outputId": "41db9e7b-df3d-4172-9e1d-b67d6e4d987d"
      },
      "execution_count": null,
      "outputs": [
        {
          "output_type": "stream",
          "name": "stdout",
          "text": [
            "Média da matriz 1: 2.5\n",
            "Média da matriz 2: 6.5\n"
          ]
        }
      ]
    },
    {
      "cell_type": "markdown",
      "source": [
        "10. Como calcular o valor negativo numérico para todos os elementos em uma determinada matriz NumPy?"
      ],
      "metadata": {
        "id": "gND7VMLPyGPe"
      }
    },
    {
      "cell_type": "code",
      "source": [
        "import numpy as np\n",
        "\n",
        "arr = np.array([1, 2, 3, 4])\n",
        "negative_values = -arr\n",
        "print(\"Valores negativos:\", negative_values)\n",
        "\n"
      ],
      "metadata": {
        "colab": {
          "base_uri": "https://localhost:8080/"
        },
        "id": "KDrGXPu5nbmn",
        "outputId": "2f526b58-d819-4d50-def1-e1bd7e9e1884"
      },
      "execution_count": null,
      "outputs": [
        {
          "output_type": "stream",
          "name": "stdout",
          "text": [
            "Valores negativos: [-1 -2 -3 -4]\n"
          ]
        }
      ]
    },
    {
      "cell_type": "markdown",
      "source": [
        "11. Como obter os valores mínimo, máximo e truncado dos elementos de um array numpy?"
      ],
      "metadata": {
        "id": "_oCte5PzyJbW"
      }
    },
    {
      "cell_type": "code",
      "source": [
        "import numpy as np\n",
        "\n",
        "arr = np.array([1.5, 2.7, 3.2, 4.8, 5.1])\n",
        "\n",
        "min_value = np.min(arr)\n",
        "max_value = np.max(arr)\n",
        "truncated_values = np.trunc(arr)\n",
        "\n",
        "print(f\"Valor mínimo: {min_value}\")\n",
        "print(f\"Valor máximo: {max_value}\")\n",
        "print(f\"Valores truncados: {truncated_values}\")\n"
      ],
      "metadata": {
        "colab": {
          "base_uri": "https://localhost:8080/"
        },
        "id": "EfYxpL6pn-yD",
        "outputId": "e8fe64b0-5a6e-4e4b-82fb-7c133dcd7467"
      },
      "execution_count": null,
      "outputs": [
        {
          "output_type": "stream",
          "name": "stdout",
          "text": [
            "Valor mínimo: 1.5\n",
            "Valor máximo: 5.1\n",
            "Valores truncados: [1. 2. 3. 4. 5.]\n"
          ]
        }
      ]
    },
    {
      "cell_type": "markdown",
      "source": [
        "12. Como arredondar elementos do array NumPy para o número inteiro mais próximo?"
      ],
      "metadata": {
        "id": "mDzv7_fiyLsO"
      }
    },
    {
      "cell_type": "code",
      "source": [
        "import numpy as np\n",
        "\n",
        "arr = np.array([1.5, 2.7, 3.2, 4.8, 5.1])\n",
        "rounded_values = np.round(arr).astype(int)\n",
        "print(f\"Valores arredondados: {rounded_values}\")\n"
      ],
      "metadata": {
        "colab": {
          "base_uri": "https://localhost:8080/"
        },
        "id": "ArPIUBj5oI8w",
        "outputId": "161851b5-ac6e-4a51-ba39-4e88c79edf57"
      },
      "execution_count": null,
      "outputs": [
        {
          "output_type": "stream",
          "name": "stdout",
          "text": [
            "Valores arredondados: [2 3 3 5 5]\n"
          ]
        }
      ]
    },
    {
      "cell_type": "markdown",
      "source": [
        "13. Encontre o arredondamento dos valores da matriz fornecida"
      ],
      "metadata": {
        "id": "s_ahipXfyPMa"
      }
    },
    {
      "cell_type": "code",
      "source": [
        "import numpy as np\n",
        "\n",
        "matrix = np.array([[1.234, 2.345], [3.456, 4.567]])\n",
        "rounded_matrix = np.around(matrix, decimals=2)\n",
        "print(\"Matriz arredondada:\")\n",
        "print(rounded_matrix)\n"
      ],
      "metadata": {
        "colab": {
          "base_uri": "https://localhost:8080/"
        },
        "id": "FJlTJadToJYz",
        "outputId": "e17ef502-2f3d-40e5-eddc-ac0848246dee"
      },
      "execution_count": null,
      "outputs": [
        {
          "output_type": "stream",
          "name": "stdout",
          "text": [
            "Matriz arredondada:\n",
            "[[1.23 2.35]\n",
            " [3.46 4.57]]\n"
          ]
        }
      ]
    },
    {
      "cell_type": "markdown",
      "source": [
        "14. Determine a raiz quadrada positiva de uma matriz"
      ],
      "metadata": {
        "id": "Gss1NtrryR4D"
      }
    },
    {
      "cell_type": "code",
      "source": [
        "import numpy as np\n",
        "\n",
        "arr = np.array([9, 16, 25])\n",
        "sqrt_values = np.sqrt(arr)\n",
        "print(f\"Raiz quadrada positiva: {sqrt_values}\")\n"
      ],
      "metadata": {
        "colab": {
          "base_uri": "https://localhost:8080/"
        },
        "id": "RGmoHXHdoJ1r",
        "outputId": "b87e9de3-7b20-4ed5-e160-d99825a9aa95"
      },
      "execution_count": null,
      "outputs": [
        {
          "output_type": "stream",
          "name": "stdout",
          "text": [
            "Raiz quadrada positiva: [3. 4. 5.]\n"
          ]
        }
      ]
    },
    {
      "cell_type": "markdown",
      "source": [
        "15. Avalie a convenção de soma de Einstein de duas matrizes NumPy multidimensionais"
      ],
      "metadata": {
        "id": "UdWxFIifyUSj"
      }
    },
    {
      "cell_type": "code",
      "source": [
        "import numpy as np\n",
        "\n",
        "matrix1 = np.array([[1, 2], [3, 4]])\n",
        "matrix2 = np.array([[5, 6], [7, 8]])\n",
        "\n",
        "einstein_sum = np.einsum(\"ij,ij\", matrix1, matrix2)\n",
        "print(f\"Soma de Einstein: {einstein_sum}\")\n"
      ],
      "metadata": {
        "colab": {
          "base_uri": "https://localhost:8080/"
        },
        "id": "lk7DrbT5oKYi",
        "outputId": "3f12b05b-a7b1-44cb-fd00-9d8fc58630aa"
      },
      "execution_count": null,
      "outputs": [
        {
          "output_type": "stream",
          "name": "stdout",
          "text": [
            "Soma de Einstein: 70\n"
          ]
        }
      ]
    },
    {
      "cell_type": "markdown",
      "source": [
        "*   **NumPy Statistics**\n",
        "\n",
        "1. Calcule a mediana da matriz NumPy achatada"
      ],
      "metadata": {
        "id": "vAP2vmSfyY1L"
      }
    },
    {
      "cell_type": "code",
      "source": [
        "import numpy as np\n",
        "\n",
        "# Criando uma matriz 2D\n",
        "matrix = np.array([[1, 2, 3], [4, 5, 6], [7, 8, 9]])\n",
        "\n",
        "# Achatando a matriz para um array unidimensional\n",
        "flattened_array = matrix.flatten()\n",
        "\n",
        "# Calculando a mediana\n",
        "median_value = np.median(flattened_array)\n",
        "\n",
        "print(f\"Mediana da matriz achatada: {median_value}\")\n"
      ],
      "metadata": {
        "colab": {
          "base_uri": "https://localhost:8080/"
        },
        "id": "qllU2M5xoR93",
        "outputId": "6fa919cc-025c-431c-892d-b6f721c00772"
      },
      "execution_count": null,
      "outputs": [
        {
          "output_type": "stream",
          "name": "stdout",
          "text": [
            "Mediana da matriz achatada: 5.0\n"
          ]
        }
      ]
    },
    {
      "cell_type": "markdown",
      "source": [
        "2. Encontre a média de uma lista de array Numpy"
      ],
      "metadata": {
        "id": "ugq0TRrFy1Hb"
      }
    },
    {
      "cell_type": "code",
      "source": [
        "import numpy as np\n",
        "\n",
        "# Criando uma lista de arrays NumPy\n",
        "array_list = [\n",
        "    np.array([10, 20, 30]),\n",
        "    np.array([5, 15, 25]),\n",
        "    np.array([8, 18, 28])\n",
        "]\n",
        "\n",
        "# Calculando a média de cada array na lista\n",
        "mean_values = [np.mean(arr) for arr in array_list]\n",
        "\n",
        "print(\"Média dos arrays:\")\n",
        "for i, mean in enumerate(mean_values):\n",
        "    print(f\"Array {i+1}: {mean}\")\n",
        "\n",
        "\n"
      ],
      "metadata": {
        "colab": {
          "base_uri": "https://localhost:8080/"
        },
        "id": "s5HYbjjioSkO",
        "outputId": "9192b079-71e0-4e2c-d88e-e3239a3dea44"
      },
      "execution_count": null,
      "outputs": [
        {
          "output_type": "stream",
          "name": "stdout",
          "text": [
            "Média dos arrays:\n",
            "Array 1: 20.0\n",
            "Array 2: 15.0\n",
            "Array 3: 18.0\n"
          ]
        }
      ]
    },
    {
      "cell_type": "markdown",
      "source": [
        "3. Calcule a média do array ignorando o valor NaN"
      ],
      "metadata": {
        "id": "H6Ll4y52y3qT"
      }
    },
    {
      "cell_type": "code",
      "source": [
        "import numpy as np\n",
        "\n",
        "# Criando um array com valores NaN\n",
        "arr = np.array([1, 2, 3, np.nan, 5, np.nan, 7])\n",
        "\n",
        "# Calculando a média ignorando os valores NaN\n",
        "mean_value = np.nanmean(arr)\n",
        "\n",
        "print(f\"Média (ignorando NaN): {mean_value}\")\n",
        "\n",
        "\n"
      ],
      "metadata": {
        "colab": {
          "base_uri": "https://localhost:8080/"
        },
        "id": "z7cng3NjoT3w",
        "outputId": "385e1c86-8b70-4913-f6c2-886b955a306b"
      },
      "execution_count": null,
      "outputs": [
        {
          "output_type": "stream",
          "name": "stdout",
          "text": [
            "Média (ignorando NaN): 3.6\n"
          ]
        }
      ]
    },
    {
      "cell_type": "markdown",
      "source": [
        "4. Obtenha o valor médio de determinada matriz"
      ],
      "metadata": {
        "id": "27fKDA9Gy524"
      }
    },
    {
      "cell_type": "code",
      "source": [
        "import numpy as np\n",
        "\n",
        "# Exemplo de matriz\n",
        "matrix = np.array([[1, 2, 3], [4, 5, 6], [7, 8, 9]])\n",
        "\n",
        "# Calculando a média (valor médio) da matriz inteira\n",
        "mean_value = np.mean(matrix)\n",
        "\n",
        "print(f\"Valor médio da matriz: {mean_value}\")\n",
        "\n"
      ],
      "metadata": {
        "colab": {
          "base_uri": "https://localhost:8080/"
        },
        "id": "t9nTFqp9oU36",
        "outputId": "4429d1f4-545d-4b1f-e90e-abf76e31d60c"
      },
      "execution_count": null,
      "outputs": [
        {
          "output_type": "stream",
          "name": "stdout",
          "text": [
            "Valor médio da matriz: 5.0\n"
          ]
        }
      ]
    },
    {
      "cell_type": "markdown",
      "source": [
        "5. Calcule a variância do array NumPy"
      ],
      "metadata": {
        "id": "0HUZGbYTzCWj"
      }
    },
    {
      "cell_type": "code",
      "source": [
        "import numpy as np\n",
        "\n",
        "# Exemplo de array\n",
        "arr = np.array([10, 20, 30, 40, 50])\n",
        "\n",
        "# Calculando a variância\n",
        "variance = np.var(arr)\n",
        "\n",
        "print(f\"Variância: {variance}\")\n",
        "\n"
      ],
      "metadata": {
        "colab": {
          "base_uri": "https://localhost:8080/"
        },
        "id": "zVHjGmhhoV92",
        "outputId": "52a7267c-8444-418c-e6fc-97efe9d9d171"
      },
      "execution_count": null,
      "outputs": [
        {
          "output_type": "stream",
          "name": "stdout",
          "text": [
            "Variância: 200.0\n"
          ]
        }
      ]
    },
    {
      "cell_type": "markdown",
      "source": [
        "6. Calcule o desvio padrão do array NumPy"
      ],
      "metadata": {
        "id": "86Mrwkepz9rE"
      }
    },
    {
      "cell_type": "code",
      "source": [
        "import numpy as np\n",
        "\n",
        "# Exemplo de array\n",
        "arr = np.array([10, 20, 30, 40, 50])\n",
        "\n",
        "# Calculando o desvio padrão\n",
        "std_deviation = np.std(arr)\n",
        "\n",
        "print(f\"Desvio padrão do array: {std_deviation:.2f}\")\n",
        "\n",
        "\n"
      ],
      "metadata": {
        "colab": {
          "base_uri": "https://localhost:8080/"
        },
        "id": "x6bQ-e6SoXJK",
        "outputId": "90ffcb09-9cbb-424d-db4f-c34535228b6f"
      },
      "execution_count": null,
      "outputs": [
        {
          "output_type": "stream",
          "name": "stdout",
          "text": [
            "Desvio padrão do array: 14.14\n"
          ]
        }
      ]
    },
    {
      "cell_type": "markdown",
      "source": [
        "7. Calcular coeficientes de correlação produto-momento de Pearson de duas matrizes NumPy fornecidas"
      ],
      "metadata": {
        "id": "pwblJj7H0ACB"
      }
    },
    {
      "cell_type": "code",
      "source": [
        "#matriz 1: [[1, 2, 3],[4, 5, 6],[7, 8, 9]]\n",
        "#matriz 2: [[9, 8, 7],[6, 5, 4],[3, 2, 1]]\n",
        "\n",
        "import numpy as np\n",
        "\n",
        "# Duas matrizes NumPy fornecidas\n",
        "matrix1 = np.array([[1, 2, 3], [4, 5, 6], [7, 8, 9]])\n",
        "matrix2 = np.array([[9, 8, 7], [6, 5, 4], [3, 2, 1]])\n",
        "\n",
        "# Calculando a matriz de correlação\n",
        "correlation_matrix = np.corrcoef(matrix1.flatten(), matrix2.flatten())\n",
        "\n",
        "# Obtendo o coeficiente de correlação produto-momento de Pearson\n",
        "pearson_coefficient = correlation_matrix[0, 1]\n",
        "\n",
        "print(f\"Coeficiente de correlação Pearson: {pearson_coefficient:.2f}\")\n",
        "\n"
      ],
      "metadata": {
        "colab": {
          "base_uri": "https://localhost:8080/"
        },
        "id": "ZaTN6hmPpBe8",
        "outputId": "adc41d2f-ec51-450c-f384-68c7be2d951b"
      },
      "execution_count": null,
      "outputs": [
        {
          "output_type": "stream",
          "name": "stdout",
          "text": [
            "Coeficiente de correlação Pearson: -1.00\n"
          ]
        }
      ]
    },
    {
      "cell_type": "markdown",
      "source": [
        "8. Calcule a média entre dimensões em uma matriz NumPy 2D"
      ],
      "metadata": {
        "id": "U34BWaTW0CCR"
      }
    },
    {
      "cell_type": "code",
      "source": [
        "import numpy as np\n",
        "\n",
        "# Criando uma matriz 2D\n",
        "matrix = np.array([[1, 2, 3], [4, 5, 6], [7, 8, 9]])\n",
        "\n",
        "# Calculando a média ao longo das colunas (média das linhas)\n",
        "mean_columns = np.mean(matrix, axis=0)\n",
        "\n",
        "# Calculando a média ao longo das linhas (média das colunas)\n",
        "mean_rows = np.mean(matrix, axis=1)\n",
        "\n",
        "print(\"Média das colunas:\")\n",
        "print(mean_columns)\n",
        "\n",
        "print(\"\\nMédia das linhas:\")\n",
        "print(mean_rows)\n"
      ],
      "metadata": {
        "colab": {
          "base_uri": "https://localhost:8080/"
        },
        "id": "vpDpPWDxpEeD",
        "outputId": "7fdb5b4e-7efa-486c-b14e-0fecd2bb5cb0"
      },
      "execution_count": null,
      "outputs": [
        {
          "output_type": "stream",
          "name": "stdout",
          "text": [
            "Média das colunas:\n",
            "[4. 5. 6.]\n",
            "\n",
            "Média das linhas:\n",
            "[2. 5. 8.]\n"
          ]
        }
      ]
    },
    {
      "cell_type": "markdown",
      "source": [
        "9. Calcule a média, a variância e o desvio padrão em Python usando NumPy"
      ],
      "metadata": {
        "id": "eR9FpojN0Emn"
      }
    },
    {
      "cell_type": "code",
      "source": [
        "import numpy as np\n",
        "\n",
        "# Exemplo de array\n",
        "arr = np.array([10, 20, 30, 40, 50])\n",
        "\n",
        "# Calculando a média\n",
        "mean_value = np.mean(arr)\n",
        "\n",
        "# Calculando a variância\n",
        "variance = np.var(arr)\n",
        "\n",
        "# Calculando o desvio padrão\n",
        "std_deviation = np.std(arr)\n",
        "\n",
        "print(f\"Array: {arr}\")\n",
        "print(f\"Média: {mean_value:.2f}\")\n",
        "print(f\"Variância: {variance:.2f}\")\n",
        "print(f\"Desvio padrão: {std_deviation:.2f}\")\n",
        "\n",
        "\n"
      ],
      "metadata": {
        "colab": {
          "base_uri": "https://localhost:8080/"
        },
        "id": "WiDO3GW_pKCm",
        "outputId": "e9147c2c-b2d1-4b4a-841b-0ab3c4c99c44"
      },
      "execution_count": null,
      "outputs": [
        {
          "output_type": "stream",
          "name": "stdout",
          "text": [
            "Array: [10 20 30 40 50]\n",
            "Média: 30.00\n",
            "Variância: 200.00\n",
            "Desvio padrão: 14.14\n"
          ]
        }
      ]
    },
    {
      "cell_type": "markdown",
      "source": [
        "10. Descreva um array NumPy em Python"
      ],
      "metadata": {
        "id": "iNgV3BkV0IC8"
      }
    },
    {
      "cell_type": "code",
      "source": [
        "import numpy as np\n",
        "\n",
        "# Criando um array NumPy\n",
        "arr = np.array([10, 20, 30, 40, 50])\n",
        "\n",
        "print(\"Array NumPy:\")\n",
        "print(arr)\n",
        "print(f\"Tipo de dados: {arr.dtype}\")\n",
        "print(f\"Dimensões: {arr.ndim}\")\n",
        "print(f\"Forma (shape): {arr}\")\n",
        "\n"
      ],
      "metadata": {
        "colab": {
          "base_uri": "https://localhost:8080/"
        },
        "id": "95gWuaWWpLbF",
        "outputId": "359125f1-bd44-43ed-a4ee-874d11fb4659"
      },
      "execution_count": null,
      "outputs": [
        {
          "output_type": "stream",
          "name": "stdout",
          "text": [
            "Array NumPy:\n",
            "[10 20 30 40 50]\n",
            "Tipo de dados: int64\n",
            "Dimensões: 1\n",
            "Forma (shape): [10 20 30 40 50]\n"
          ]
        }
      ]
    },
    {
      "cell_type": "markdown",
      "source": [
        "*   **Questions on Polynomial**\n",
        "\n",
        "1. Defina uma função polinomial"
      ],
      "metadata": {
        "id": "UlK9HdGh0js2"
      }
    },
    {
      "cell_type": "markdown",
      "source": [
        " Uma função polinomial é aquela que é definida por uma expressão polinomial. Elas são representadas pela expressão abaixo (código):"
      ],
      "metadata": {
        "id": "B2ILVS1UsvJq"
      }
    },
    {
      "cell_type": "code",
      "source": [
        "from IPython.display import Math, HTML\n",
        "display(HTML(\"<script src='https://cdnjs.cloudflare.com/ajax/libs/mathjax/2.7.3/\"\n",
        "               \"latest.js?config=default'></script>\"))\n",
        "\n",
        "Math(r'P(X) = a_n X^n + a_{n-1} X^{n-1} + ... + a_1 X + a_0 ')"
      ],
      "metadata": {
        "colab": {
          "base_uri": "https://localhost:8080/",
          "height": 38
        },
        "id": "JxBjcgEDuIOz",
        "outputId": "c7051013-a1d9-4188-f2a9-b839012120c0"
      },
      "execution_count": null,
      "outputs": [
        {
          "output_type": "display_data",
          "data": {
            "text/plain": [
              "<IPython.core.display.HTML object>"
            ],
            "text/html": [
              "<script src='https://cdnjs.cloudflare.com/ajax/libs/mathjax/2.7.3/latest.js?config=default'></script>"
            ]
          },
          "metadata": {}
        },
        {
          "output_type": "execute_result",
          "data": {
            "text/plain": [
              "<IPython.core.display.Math object>"
            ],
            "text/latex": "$\\displaystyle P(X) = a_n X^n + a_{n-1} X^{n-1} + ... + a_1 X + a_0 $"
          },
          "metadata": {},
          "execution_count": 40
        }
      ]
    },
    {
      "cell_type": "markdown",
      "source": [
        "Observe que, além dos termos e coeficientes, temos na expressão:\n",
        "\n",
        "* n: número inteiro positivo ou nulo\n",
        "\n",
        "* x: variável\n",
        "\n",
        "* an, an-1, an-2, … a2, a1 e a0: são coeficientes. Os coeficientes são números reais que acompanham a variável do polinômio.\n",
        "\n",
        "As funções polinomiais também podem ser chamadas de polinômios, já que cada uma das funções está ligada a um único polinômio"
      ],
      "metadata": {
        "id": "veipCLI5vi5u"
      }
    },
    {
      "cell_type": "markdown",
      "source": [
        "2. Como adicionar um polinômio a outro usando NumPy em Python?"
      ],
      "metadata": {
        "id": "ne43CRr935h3"
      }
    },
    {
      "cell_type": "code",
      "source": [
        "import numpy as np\n",
        "\n",
        "# Coeficientes do primeiro polinômio (p(x))\n",
        "p = (5, -2, 5)\n",
        "\n",
        "# Coeficientes do segundo polinômio (q(x))\n",
        "q = (2, -5, 2)\n",
        "\n",
        "# Adicionando os polinômios\n",
        "result = np.polynomial.polynomial.polyadd(p, q)\n",
        "\n",
        "print(\"Coeficientes do polinômio resultante:\", result)\n"
      ],
      "metadata": {
        "colab": {
          "base_uri": "https://localhost:8080/"
        },
        "id": "NlyNpXe3rr7w",
        "outputId": "f689dce8-eff7-4db6-f466-3f7d82abb129"
      },
      "execution_count": null,
      "outputs": [
        {
          "output_type": "stream",
          "name": "stdout",
          "text": [
            "Coeficientes do polinômio resultante: [ 7. -7.  7.]\n"
          ]
        }
      ]
    },
    {
      "cell_type": "markdown",
      "source": [
        "3. Como subtrair um polinômio de outro usando NumPy em Python?"
      ],
      "metadata": {
        "id": "0lKjRD7e0skZ"
      }
    },
    {
      "cell_type": "code",
      "source": [
        "import numpy as np\n",
        "\n",
        "# Coeficientes do primeiro polinômio (p(x))\n",
        "p = (5, -2, 5)\n",
        "\n",
        "# Coeficientes do segundo polinômio (q(x))\n",
        "q = (2, -5, 2)\n",
        "\n",
        "# Subtraindo os polinômios\n",
        "result = np.polynomial.polynomial.polysub(p, q)\n",
        "\n",
        "print(\"Coeficientes do polinômio resultante:\", result)\n"
      ],
      "metadata": {
        "colab": {
          "base_uri": "https://localhost:8080/"
        },
        "id": "Fi4oepjrrsez",
        "outputId": "324457bf-3f4e-4901-c85b-98ca3272e9a3"
      },
      "execution_count": null,
      "outputs": [
        {
          "output_type": "stream",
          "name": "stdout",
          "text": [
            "Coeficientes do polinômio resultante: [3. 3. 3.]\n"
          ]
        }
      ]
    },
    {
      "cell_type": "markdown",
      "source": [
        "4. Como multiplicar um polinômio por outro usando NumPy em Python?"
      ],
      "metadata": {
        "id": "5y02USpg4Ko9"
      }
    },
    {
      "cell_type": "code",
      "source": [
        "import numpy as np\n",
        "\n",
        "# Coeficientes do primeiro polinômio (p(x))\n",
        "p = (5, -2, 5)\n",
        "\n",
        "# Coeficientes do segundo polinômio (q(x))\n",
        "q = (2, -5, 2)\n",
        "\n",
        "# Multiplicando os polinômios\n",
        "result = np.polynomial.polynomial.polymul(p, q)\n",
        "\n",
        "print(\"Coeficientes do polinômio resultante:\", result)\n"
      ],
      "metadata": {
        "colab": {
          "base_uri": "https://localhost:8080/"
        },
        "id": "K91UvFOPrul3",
        "outputId": "bcdad0fe-7cac-4bb3-de8d-c160cb93db82"
      },
      "execution_count": null,
      "outputs": [
        {
          "output_type": "stream",
          "name": "stdout",
          "text": [
            "Coeficientes do polinômio resultante: [ 10. -29.  30. -29.  10.]\n"
          ]
        }
      ]
    },
    {
      "cell_type": "markdown",
      "source": [
        "5. Como dividir um polinômio por outro usando NumPy em Python?"
      ],
      "metadata": {
        "id": "B9QS_76G4NX8"
      }
    },
    {
      "cell_type": "code",
      "source": [
        "import numpy as np\n",
        "\n",
        "# Coeficientes do primeiro polinômio (p(x))\n",
        "p = (5, -2, 5)\n",
        "\n",
        "# Coeficientes do segundo polinômio (g(x))\n",
        "g = (2, 1, 0)\n",
        "\n",
        "# Dividindo os polinômios\n",
        "quotient, remainder = np.polynomial.polynomial.polydiv(p, g)\n",
        "\n",
        "print(\"Coeficientes do quociente:\", quotient)\n",
        "print(\"Coeficientes do resto:\", remainder)\n"
      ],
      "metadata": {
        "colab": {
          "base_uri": "https://localhost:8080/"
        },
        "id": "zpq0SzjZrvLa",
        "outputId": "d3210d53-56b3-439e-90d7-3bf272acd8ec"
      },
      "execution_count": null,
      "outputs": [
        {
          "output_type": "stream",
          "name": "stdout",
          "text": [
            "Coeficientes do quociente: [-12.   5.]\n",
            "Coeficientes do resto: [29.]\n"
          ]
        }
      ]
    },
    {
      "cell_type": "markdown",
      "source": [
        "6. Encontre as raízes dos polinômios usando NumPy"
      ],
      "metadata": {
        "id": "0H4l6XMA4Pqv"
      }
    },
    {
      "cell_type": "code",
      "source": [
        "import numpy as np\n",
        "\n",
        "# Coeficientes do primeiro polinômio (p(x))\n",
        "p = np.poly1d([1, 2, 1])  # Coeficientes para o polinômio x^2 + 2x + 1\n",
        "\n",
        "# Coeficientes do segundo polinômio (q(x))\n",
        "q = np.poly1d([1, 3, 2, 1])  # Coeficientes para o polinômio x^3 + 3x^2 + 2x + 1\n",
        "\n",
        "# Encontrando as raízes dos polinômios\n",
        "roots_p = p.r\n",
        "roots_q = q.r\n",
        "\n",
        "print(\"Raízes do polinômio p(x):\", roots_p)\n",
        "print(\"Raízes do polinômio q(x):\", roots_q)\n",
        "\n"
      ],
      "metadata": {
        "colab": {
          "base_uri": "https://localhost:8080/"
        },
        "id": "45u1V2C_rvr8",
        "outputId": "7a06b4df-f46a-4ce1-b2bd-065097e78667"
      },
      "execution_count": null,
      "outputs": [
        {
          "output_type": "stream",
          "name": "stdout",
          "text": [
            "Raízes do polinômio p(x): [-1. -1.]\n",
            "Raízes do polinômio q(x): [-2.32471796+0.j         -0.33764102+0.56227951j -0.33764102-0.56227951j]\n"
          ]
        }
      ]
    },
    {
      "cell_type": "markdown",
      "source": [
        "7. Avalie uma série polinomial 2-D no produto cartesiano"
      ],
      "metadata": {
        "id": "Rgieg7SG4R2x"
      }
    },
    {
      "cell_type": "code",
      "source": [
        "import numpy as np\n",
        "from numpy.polynomial.polynomial import polygrid2d\n",
        "\n",
        "# Coeficientes do polinômio 2-D\n",
        "c = np.array([[1, 3, 5], [2, 4, 6]])\n",
        "\n",
        "# Pontos do produto cartesiano de x e y\n",
        "x_points = [7, 9]\n",
        "y_points = [8, 10]\n",
        "\n",
        "# Avaliando a série polinomial 2-D\n",
        "result = polygrid2d(x_points, y_points, c)\n",
        "\n",
        "print(\"Valores da série polinomial 2-D:\")\n",
        "print(result)\n"
      ],
      "metadata": {
        "colab": {
          "base_uri": "https://localhost:8080/"
        },
        "id": "aR30ltydrwfW",
        "outputId": "0d4dea17-c43f-404d-eaf1-506f6f7bf243"
      },
      "execution_count": null,
      "outputs": [
        {
          "output_type": "stream",
          "name": "stdout",
          "text": [
            "Valores da série polinomial 2-D:\n",
            "[[3271. 5025.]\n",
            " [4107. 6309.]]\n"
          ]
        }
      ]
    },
    {
      "cell_type": "markdown",
      "source": [
        "8. Avalie uma série polinomial 3-D no produto cartesiano"
      ],
      "metadata": {
        "id": "CKV4ONmk4YPN"
      }
    },
    {
      "cell_type": "code",
      "source": [
        "import numpy as np\n",
        "from numpy.polynomial.polynomial import polygrid3d\n",
        "\n",
        "# Coeficientes do polinômio 3-D\n",
        "c = np.array([[1, 3, 5], [2, 4, 6], [10, 11, 12]])\n",
        "\n",
        "# Pontos do produto cartesiano de x, y e z\n",
        "x_points = [7, 9]\n",
        "y_points = [8, 10]\n",
        "z_points = [5, 6]\n",
        "\n",
        "# Avaliando a série polinomial 3-D\n",
        "result = polygrid3d(x_points, y_points, z_points, c)\n",
        "\n",
        "print(\"Valores da série polinomial 3-D:\")\n",
        "print(result)\n"
      ],
      "metadata": {
        "colab": {
          "base_uri": "https://localhost:8080/"
        },
        "id": "6J0BkonRrw6T",
        "outputId": "1d75c8e3-d33b-411a-d77c-3ed4353ec6bd"
      },
      "execution_count": null,
      "outputs": [
        {
          "output_type": "stream",
          "name": "stdout",
          "text": [
            "Valores da série polinomial 3-D:\n",
            "[[416970. 491223.]\n",
            " [635850. 749079.]]\n"
          ]
        }
      ]
    },
    {
      "cell_type": "markdown",
      "source": [
        "*   **Questions on Strings**\n",
        "\n",
        "1. Repita todos os elementos de uma matriz de strings NumPy"
      ],
      "metadata": {
        "id": "nTmXQJc64fAs"
      }
    },
    {
      "cell_type": "code",
      "source": [
        "import numpy as np\n",
        "\n",
        "# Criando uma matriz de strings\n",
        "string_array = np.array([\"ovo\", \"banana\", \"morango\"])\n",
        "\n",
        "# Repetindo cada elemento 3 vezes\n",
        "repeated_array = np.char.multiply(string_array, 3)\n",
        "\n",
        "print(\"Matriz de strings repetida:\")\n",
        "print(repeated_array)\n"
      ],
      "metadata": {
        "colab": {
          "base_uri": "https://localhost:8080/"
        },
        "id": "sf52CdnHyUNp",
        "outputId": "2e36aa1b-82b0-4f3b-ea26-02a1d88b5339"
      },
      "execution_count": null,
      "outputs": [
        {
          "output_type": "stream",
          "name": "stdout",
          "text": [
            "Matriz de strings repetida:\n",
            "['ovoovoovo' 'bananabananabanana' 'morangomorangomorango']\n"
          ]
        }
      ]
    },
    {
      "cell_type": "markdown",
      "source": [
        "2. Como dividir o elemento de um determinado array NumPy com espaços?"
      ],
      "metadata": {
        "id": "TUmsbIvV4fYQ"
      }
    },
    {
      "cell_type": "code",
      "source": [
        "import numpy as np\n",
        "\n",
        "# Criando um array de strings\n",
        "string_array = np.array([\"ovo banana\", \"morango manga\", \"kiwi uva\"])\n",
        "\n",
        "# Dividindo os elementos com espaços\n",
        "split_array = np.char.split(string_array)\n",
        "\n",
        "print(\"Array de strings dividido:\")\n",
        "print(split_array)\n"
      ],
      "metadata": {
        "colab": {
          "base_uri": "https://localhost:8080/"
        },
        "id": "xtK3mLUCyU-T",
        "outputId": "6b883396-2f7f-4772-b476-26bd2f94f863"
      },
      "execution_count": null,
      "outputs": [
        {
          "output_type": "stream",
          "name": "stdout",
          "text": [
            "Array de strings dividido:\n",
            "[list(['ovo', 'banana']) list(['morango', 'manga']) list(['kiwi', 'uva'])]\n"
          ]
        }
      ]
    },
    {
      "cell_type": "markdown",
      "source": [
        "3. Como inserir um espaço entre os caracteres de todos os elementos de um determinado array NumPy?"
      ],
      "metadata": {
        "id": "jTEZFORf58p1"
      }
    },
    {
      "cell_type": "code",
      "source": [
        "import numpy as np\n",
        "\n",
        "# Criando um array de strings\n",
        "string_array = np.array([\"ovo\", \"banana\", \"morango\"])\n",
        "\n",
        "# Inserindo um espaço entre os caracteres de cada elemento\n",
        "space_array = np.char.join(\" \", string_array)\n",
        "\n",
        "print(\"Array de strings com espaços:\")\n",
        "print(space_array)\n"
      ],
      "metadata": {
        "colab": {
          "base_uri": "https://localhost:8080/"
        },
        "id": "MTUcPeWlyVlE",
        "outputId": "4d0e9cf8-8fca-4747-e972-1d4daf467f4d"
      },
      "execution_count": null,
      "outputs": [
        {
          "output_type": "stream",
          "name": "stdout",
          "text": [
            "Array de strings com espaços:\n",
            "['o v o' 'b a n a n a' 'm o r a n g o']\n"
          ]
        }
      ]
    },
    {
      "cell_type": "markdown",
      "source": [
        "4. Encontre o comprimento de cada elemento de string na matriz Numpy"
      ],
      "metadata": {
        "id": "GXLJXI846ASb"
      }
    },
    {
      "cell_type": "code",
      "source": [
        "import numpy as np\n",
        "\n",
        "# Criando uma matriz de strings\n",
        "string_matrix = np.array([[\"ovo\", \"banana\", \"morango\"],\n",
        "                          [\"manga\", \"kiwi\", \"uva\"]])\n",
        "\n",
        "# Encontrando o comprimento de cada elemento de string\n",
        "element_lengths = np.vectorize(len)(string_matrix)\n",
        "\n",
        "print(\"Comprimento de cada elemento de string:\")\n",
        "print(element_lengths)\n"
      ],
      "metadata": {
        "colab": {
          "base_uri": "https://localhost:8080/"
        },
        "id": "MDRPDuWJyWHH",
        "outputId": "0bdc64f4-6564-45a4-9ec5-f6f263cf5cd5"
      },
      "execution_count": null,
      "outputs": [
        {
          "output_type": "stream",
          "name": "stdout",
          "text": [
            "Comprimento de cada elemento de string:\n",
            "[[3 6 7]\n",
            " [5 4 3]]\n"
          ]
        }
      ]
    },
    {
      "cell_type": "markdown",
      "source": [
        "5. Trocar o caso de uma matriz de string"
      ],
      "metadata": {
        "id": "a4vAnFbg6CzZ"
      }
    },
    {
      "cell_type": "code",
      "source": [
        "import numpy as np\n",
        "\n",
        "# Criando uma matriz de strings\n",
        "string_matrix = np.array([[\"ovo\", \"banana\", \"morango\"],\n",
        "                          [\"manga\", \"kiwi\", \"uva\"]])\n",
        "\n",
        "# Convertendo para maiúsculas\n",
        "upper_matrix = np.char.upper(string_matrix)\n",
        "\n",
        "# Convertendo para minúsculas\n",
        "lower_matrix = np.char.lower(string_matrix)\n",
        "\n",
        "print(\"Matriz de strings em maiúsculas:\")\n",
        "print(upper_matrix)\n",
        "\n",
        "print(\"\\nMatriz de strings em minúsculas:\")\n",
        "print(lower_matrix)\n"
      ],
      "metadata": {
        "colab": {
          "base_uri": "https://localhost:8080/"
        },
        "id": "uRvZhgOoyXZo",
        "outputId": "7f991d26-f573-4623-e298-74d0994f0281"
      },
      "execution_count": null,
      "outputs": [
        {
          "output_type": "stream",
          "name": "stdout",
          "text": [
            "Matriz de strings em maiúsculas:\n",
            "[['OVO' 'BANANA' 'MORANGO']\n",
            " ['MANGA' 'KIWI' 'UVA']]\n",
            "\n",
            "Matriz de strings em minúsculas:\n",
            "[['ovo' 'banana' 'morango']\n",
            " ['manga' 'kiwi' 'uva']]\n"
          ]
        }
      ]
    },
    {
      "cell_type": "markdown",
      "source": [
        "6. Alterar a caixa para maiúscula dos elementos de um array"
      ],
      "metadata": {
        "id": "g5XKuHD56cHD"
      }
    },
    {
      "cell_type": "code",
      "source": [
        "import numpy as np\n",
        "\n",
        "# Criando um array de strings\n",
        "string_array = np.array([\"ovo\", \"banana\", \"morango\"])\n",
        "\n",
        "# Convertendo para maiúsculas\n",
        "upper_array = np.char.upper(string_array)\n",
        "\n",
        "print(\"Array de strings em maiúsculas:\")\n",
        "print(upper_array)\n"
      ],
      "metadata": {
        "colab": {
          "base_uri": "https://localhost:8080/"
        },
        "id": "5xDARYWuyX59",
        "outputId": "4ea1872f-ff0d-402d-df4d-5d94fcb9ada9"
      },
      "execution_count": null,
      "outputs": [
        {
          "output_type": "stream",
          "name": "stdout",
          "text": [
            "Array de strings em maiúsculas:\n",
            "['OVO' 'BANANA' 'MORANGO']\n"
          ]
        }
      ]
    },
    {
      "cell_type": "markdown",
      "source": [
        "7. Alterar a caixa para minúscula dos elementos de um array"
      ],
      "metadata": {
        "id": "U-ipmjYy6eeM"
      }
    },
    {
      "cell_type": "code",
      "source": [
        "import numpy as np\n",
        "\n",
        "# Criando um array de strings\n",
        "string_array = np.array([\"ovo\", \"banana\", \"morango\"])\n",
        "\n",
        "# Convertendo para minúsculas\n",
        "lower_matrix = np.char.lower(string_array)\n",
        "\n",
        "print(\"Array de strings em minúsculas:\")\n",
        "print(lower_matrix)"
      ],
      "metadata": {
        "colab": {
          "base_uri": "https://localhost:8080/"
        },
        "id": "N7XG6SKOyYYK",
        "outputId": "cf25b8fb-59e6-423c-ecef-7b0dcc1d72da"
      },
      "execution_count": null,
      "outputs": [
        {
          "output_type": "stream",
          "name": "stdout",
          "text": [
            "Array de strings em minúsculas:\n",
            "['ovo' 'banana' 'morango']\n"
          ]
        }
      ]
    },
    {
      "cell_type": "markdown",
      "source": [
        "8. Unir String por um separador"
      ],
      "metadata": {
        "id": "2am9r5Vc6g2I"
      }
    },
    {
      "cell_type": "code",
      "source": [
        "import numpy as np\n",
        "\n",
        "# Uma matrizes de strings\n",
        "strarr1 = np.array([\"ovo\", \"banana\", \"morango\"])\n",
        "\n",
        "#Unindo as palavras com vírgula\n",
        "print( ','.join(strarr1) )\n",
        "\n",
        "\n",
        "\n"
      ],
      "metadata": {
        "colab": {
          "base_uri": "https://localhost:8080/"
        },
        "id": "7ovxxUazyZE8",
        "outputId": "15dbe340-2826-46a4-f32d-67bd26d27371"
      },
      "execution_count": null,
      "outputs": [
        {
          "output_type": "stream",
          "name": "stdout",
          "text": [
            "ovo,banana,morango\n"
          ]
        }
      ]
    },
    {
      "cell_type": "markdown",
      "source": [
        "9. Verifique se duas matrizes de string com o mesmo formato são uma por uma"
      ],
      "metadata": {
        "id": "a2VNVu5t6jBy"
      }
    },
    {
      "cell_type": "code",
      "source": [
        "import numpy as np\n",
        "\n",
        "# Duas matrizes de strings\n",
        "matrix1 = np.array([[\"ovo\", \"banana\"], [\"acai\",\"morango\"]])\n",
        "matrix2 = np.array([[\"kiwi\", \"maracuja\"], [\"ovo\", \"laranja\"]])\n",
        "\n",
        "# Verificando se têm o mesmo formato\n",
        "if matrix1.shape == matrix2.shape:\n",
        "    print(\"As matrizes têm o mesmo formato.\")\n",
        "else:\n",
        "    print(\"As matrizes têm formatos diferentes.\")\n"
      ],
      "metadata": {
        "colab": {
          "base_uri": "https://localhost:8080/"
        },
        "id": "culi3ZszyZmk",
        "outputId": "e8274588-e35f-4ca6-dc8f-9e8012f1753a"
      },
      "execution_count": null,
      "outputs": [
        {
          "output_type": "stream",
          "name": "stdout",
          "text": [
            "As matrizes têm o mesmo formato.\n"
          ]
        }
      ]
    },
    {
      "cell_type": "markdown",
      "source": [
        "10. Conte o número de substrings em uma matriz"
      ],
      "metadata": {
        "id": "HkDlaAgU6lPA"
      }
    },
    {
      "cell_type": "code",
      "source": [
        "import numpy as np\n",
        "\n",
        "# Matriz de strings\n",
        "string_matrix = np.array([[\"ovo\", \"banana\", \"morango\"],\n",
        "                          [\"manga\", \"kiwi\", \"uva\"]])\n",
        "\n",
        "# Contando o número de ocorrências da substring \"a\"\n",
        "substring_count = np.char.count(string_matrix, \"a\")\n",
        "\n",
        "print(\"Número de substrings 'a' em cada elemento:\")\n",
        "print(substring_count)\n"
      ],
      "metadata": {
        "colab": {
          "base_uri": "https://localhost:8080/"
        },
        "id": "mXnDHmi_yaF1",
        "outputId": "85aa56b3-f6d7-4270-c969-bf928e2694aa"
      },
      "execution_count": null,
      "outputs": [
        {
          "output_type": "stream",
          "name": "stdout",
          "text": [
            "Número de substrings 'a' em cada elemento:\n",
            "[[0 3 1]\n",
            " [2 0 1]]\n"
          ]
        }
      ]
    },
    {
      "cell_type": "markdown",
      "source": [
        "11. Encontre o índice mais baixo da substring em uma matriz"
      ],
      "metadata": {
        "id": "j_wEN_5n6qTI"
      }
    },
    {
      "cell_type": "code",
      "source": [
        "import numpy as np\n",
        "\n",
        "arr = ['vdsdsttetteteAAAa', 'AAAAAAAaattttds', 'AAaaxxxxtt', 'AAaaXDSDdscz']\n",
        "\n",
        "print (\"arr : \", arr)\n",
        "\n",
        "print (\"\\nfind of 'tt'\", np.char.find(arr, 'tt'))\n",
        "print (\"find of 'tt'\", np.char.find(arr, 'tt', start = 0))\n",
        "print (\"find of 'tt'\", np.char.find(arr, 'tt', start = 8))\n"
      ],
      "metadata": {
        "colab": {
          "base_uri": "https://localhost:8080/"
        },
        "id": "oVhL_tqZyanR",
        "outputId": "636b2c86-bbbc-4c2c-cce1-8cfd348bbfc8"
      },
      "execution_count": null,
      "outputs": [
        {
          "output_type": "stream",
          "name": "stdout",
          "text": [
            "arr :  ['vdsdsttetteteAAAa', 'AAAAAAAaattttds', 'AAaaxxxxtt', 'AAaaXDSDdscz']\n",
            "\n",
            "find of 'tt' [ 5  9  8 -1]\n",
            "find of 'tt' [ 5  9  8 -1]\n",
            "find of 'tt' [ 8  9  8 -1]\n"
          ]
        }
      ]
    },
    {
      "cell_type": "markdown",
      "source": [
        "12. Obtenha a matriz booleana quando os valores terminam com um caractere específico"
      ],
      "metadata": {
        "id": "qz49YQ_c6x7Z"
      }
    },
    {
      "cell_type": "code",
      "source": [
        "import numpy as np\n",
        "\n",
        "# Matriz de strings\n",
        "string_matrix = np.array([\"ovo\", \"banana\", \"morango\"])\n",
        "\n",
        "# Verificando quais valores terminam com \"e\"\n",
        "ends_with_e = np.char.endswith(string_matrix, \"a\")\n",
        "\n",
        "print(\"Matriz booleana (True se termina com 'a', False caso contrário):\")\n",
        "print(ends_with_e)\n"
      ],
      "metadata": {
        "colab": {
          "base_uri": "https://localhost:8080/"
        },
        "id": "xQWzSugrybPY",
        "outputId": "df19694c-0b90-4000-ba74-3ea448ff4b58"
      },
      "execution_count": null,
      "outputs": [
        {
          "output_type": "stream",
          "name": "stdout",
          "text": [
            "Matriz booleana (True se termina com 'a', False caso contrário):\n",
            "[False  True False]\n"
          ]
        }
      ]
    },
    {
      "cell_type": "markdown",
      "source": [
        "13. Diferentes maneiras de converter um dicionário Python em um array NumPy"
      ],
      "metadata": {
        "id": "BV3DqjBB7GaN"
      }
    },
    {
      "cell_type": "code",
      "source": [
        "import numpy as np\n",
        "\n",
        "my_dict = {'a': 1, 'b': 2, 'c': 3}\n",
        "my_array = np.array([v for v in my_dict.values()])\n",
        "\n",
        "print(\"Array NumPy a partir do dicionário:\")\n",
        "print(my_array)\n"
      ],
      "metadata": {
        "colab": {
          "base_uri": "https://localhost:8080/"
        },
        "id": "OoBsigx0ycK8",
        "outputId": "0530d7f3-2624-4514-db7d-9fd22222b2c6"
      },
      "execution_count": null,
      "outputs": [
        {
          "output_type": "stream",
          "name": "stdout",
          "text": [
            "Array NumPy a partir do dicionário:\n",
            "[1 2 3]\n"
          ]
        }
      ]
    },
    {
      "cell_type": "markdown",
      "source": [
        "14. Como converter uma lista e tupla em arrays NumPy?"
      ],
      "metadata": {
        "id": "Akb3s4Q97QAE"
      }
    },
    {
      "cell_type": "code",
      "source": [
        "import numpy as np\n",
        "\n",
        "my_list = [1, 2, 3, 4]\n",
        "my_array_from_list = np.array(my_list)\n",
        "\n",
        "print(\"Array NumPy a partir da lista:\")\n",
        "print(my_array_from_list)\n"
      ],
      "metadata": {
        "colab": {
          "base_uri": "https://localhost:8080/"
        },
        "id": "Rtn0bmhtycoz",
        "outputId": "da9f3241-ee64-49d0-b9cd-60a3b59b2cbd"
      },
      "execution_count": null,
      "outputs": [
        {
          "output_type": "stream",
          "name": "stdout",
          "text": [
            "Array NumPy a partir da lista:\n",
            "[1 2 3 4]\n"
          ]
        }
      ]
    },
    {
      "cell_type": "code",
      "source": [
        "import numpy as np\n",
        "\n",
        "my_tuple = (5, 6, 7, 8)\n",
        "my_array_from_tuple = np.array(my_tuple)\n",
        "\n",
        "print(\"Array NumPy a partir da tupla:\")\n",
        "print(my_array_from_tuple)\n"
      ],
      "metadata": {
        "colab": {
          "base_uri": "https://localhost:8080/"
        },
        "id": "yWeWFuzpR5Jq",
        "outputId": "b6359917-2fa0-48ce-a1ba-e8dd352e38b9"
      },
      "execution_count": null,
      "outputs": [
        {
          "output_type": "stream",
          "name": "stdout",
          "text": [
            "Array NumPy a partir da tupla:\n",
            "[5 6 7 8]\n"
          ]
        }
      ]
    },
    {
      "cell_type": "markdown",
      "source": [
        "16. Maneiras de converter array de strings em array de floats"
      ],
      "metadata": {
        "id": "gM6_2duZ7Slu"
      }
    },
    {
      "cell_type": "code",
      "source": [
        "import numpy as np\n",
        "\n",
        "ini_array = np.array([\"5.1\", \"1.5\", \"2.2\", \"8.8\"])\n",
        "print (\"ínicio array\", str(ini_array))\n",
        "res = ini_array.astype(float)\n",
        "print (\"final array\", str(res))"
      ],
      "metadata": {
        "colab": {
          "base_uri": "https://localhost:8080/"
        },
        "id": "eYr5OIpsydad",
        "outputId": "ef3c58da-eb6d-4357-b264-58d8fdfe94e7"
      },
      "execution_count": null,
      "outputs": [
        {
          "output_type": "stream",
          "name": "stdout",
          "text": [
            "ínicio array ['5.1' '1.5' '2.2' '8.8']\n",
            "final array [5.1 1.5 2.2 8.8]\n"
          ]
        }
      ]
    },
    {
      "cell_type": "markdown",
      "source": [
        "17. Converta um array NumPy em um arquivo csv"
      ],
      "metadata": {
        "id": "DaD5X80B7XGG"
      }
    },
    {
      "cell_type": "code",
      "source": [
        "import numpy as np\n",
        "\n",
        "# Criando um array NumPy\n",
        "my_array = np.array([[1, 2, 3], [4, 5, 6], [7, 8, 9]])\n",
        "\n",
        "# Salvando o array em um arquivo CSV\n",
        "np.savetxt('my_array.csv', my_array, delimiter=',')\n",
        "\n",
        "print(\"Array salvo em my_array.csv\")\n"
      ],
      "metadata": {
        "colab": {
          "base_uri": "https://localhost:8080/"
        },
        "id": "DwZw-Bv2yd3u",
        "outputId": "6017424b-fe0c-4c47-f4f8-e1058f2979e2"
      },
      "execution_count": null,
      "outputs": [
        {
          "output_type": "stream",
          "name": "stdout",
          "text": [
            "Array salvo em my_array.csv\n"
          ]
        }
      ]
    },
    {
      "cell_type": "markdown",
      "source": [
        "18. Como converter uma imagem em um array NumPy e salvá-la em um arquivo CSV usando Python?"
      ],
      "metadata": {
        "id": "ARfpO3OS7Zdc"
      }
    },
    {
      "cell_type": "code",
      "source": [
        "from google.colab import drive\n",
        "drive.mount('/content/drive')"
      ],
      "metadata": {
        "id": "2xDBoQ_YdUaG"
      },
      "execution_count": null,
      "outputs": []
    },
    {
      "cell_type": "code",
      "source": [
        "!pip install Image"
      ],
      "metadata": {
        "colab": {
          "base_uri": "https://localhost:8080/"
        },
        "id": "LbUy1pq0d3ZF",
        "outputId": "eb4e3985-940f-4e1d-a33a-343d4b250da2"
      },
      "execution_count": 105,
      "outputs": [
        {
          "output_type": "stream",
          "name": "stdout",
          "text": [
            "Collecting Image\n",
            "  Downloading image-1.5.33.tar.gz (15 kB)\n",
            "  Preparing metadata (setup.py) ... \u001b[?25l\u001b[?25hdone\n",
            "Requirement already satisfied: pillow in /usr/local/lib/python3.10/dist-packages (from Image) (9.4.0)\n",
            "Collecting django (from Image)\n",
            "  Downloading Django-5.0.2-py3-none-any.whl (8.2 MB)\n",
            "\u001b[2K     \u001b[90m━━━━━━━━━━━━━━━━━━━━━━━━━━━━━━━━━━━━━━━━\u001b[0m \u001b[32m8.2/8.2 MB\u001b[0m \u001b[31m22.2 MB/s\u001b[0m eta \u001b[36m0:00:00\u001b[0m\n",
            "\u001b[?25hRequirement already satisfied: six in /usr/local/lib/python3.10/dist-packages (from Image) (1.16.0)\n",
            "Collecting asgiref<4,>=3.7.0 (from django->Image)\n",
            "  Downloading asgiref-3.7.2-py3-none-any.whl (24 kB)\n",
            "Requirement already satisfied: sqlparse>=0.3.1 in /usr/local/lib/python3.10/dist-packages (from django->Image) (0.4.4)\n",
            "Requirement already satisfied: typing-extensions>=4 in /usr/local/lib/python3.10/dist-packages (from asgiref<4,>=3.7.0->django->Image) (4.10.0)\n",
            "Building wheels for collected packages: Image\n",
            "  Building wheel for Image (setup.py) ... \u001b[?25l\u001b[?25hdone\n",
            "  Created wheel for Image: filename=image-1.5.33-py2.py3-none-any.whl size=19482 sha256=2161cb9b4ac4205f0c7dc2488e89d7e92e73ed5da01264984475bda74c40c2bb\n",
            "  Stored in directory: /root/.cache/pip/wheels/70/0c/a4/7cfa53a5c6225c2db2bfec08e782b43d0f25fdae2e995b69be\n",
            "Successfully built Image\n",
            "Installing collected packages: asgiref, django, Image\n",
            "Successfully installed Image-1.5.33 asgiref-3.7.2 django-5.0.2\n"
          ]
        }
      ]
    },
    {
      "cell_type": "code",
      "source": [
        "from PIL import Image\n",
        "import numpy as np\n",
        "\n",
        "# Abrindo a imagem\n",
        "image = Image.open(\"/content/drive/MyDrive/Numpy_tutorial_OF_Janaine/flork.png\")\n",
        "\n",
        "# Convertendo a imagem em tons de cinza\n",
        "image = image.convert('L')\n",
        "\n",
        "# Convertendo a imagem em um array NumPy\n",
        "image_array = np.array(image)\n",
        "\n",
        "# Salvar a imagem em tons de cinza como CSV\n",
        "np.savetxt('image_array_grayscale.csv', image_array, delimiter=',')\n",
        "\n",
        "print(\"Imagem em tons de cinza salva em image_array_grayscale.csv\")\n"
      ],
      "metadata": {
        "colab": {
          "base_uri": "https://localhost:8080/"
        },
        "id": "J6KxyG03yeY3",
        "outputId": "69363663-dec4-4a07-9a2a-80c4021b39a9"
      },
      "execution_count": 109,
      "outputs": [
        {
          "output_type": "stream",
          "name": "stdout",
          "text": [
            "Imagem em tons de cinza salva em image_array_grayscale.csv\n"
          ]
        }
      ]
    },
    {
      "cell_type": "markdown",
      "source": [
        "19. Como salvar um array NumPy em um arquivo de texto?"
      ],
      "metadata": {
        "id": "dvuE4qLR7s5m"
      }
    },
    {
      "cell_type": "code",
      "source": [
        "import numpy\n",
        "\n",
        "List = [1, 2, 3, 4, 5]\n",
        "Array = numpy.array(List)\n",
        "\n",
        "print('Array:\\n', Array)\n",
        "file = open(\"file1.txt\", \"w+\")\n",
        "\n",
        "content = str(Array)\n",
        "file.write(content)\n",
        "file.close()\n",
        "\n",
        "file = open(\"file1.txt\", \"r\")\n",
        "content = file.read()\n",
        "\n",
        "print(\"\\nConteudo do arquivo1.txt:\\n\", content)\n",
        "file.close()"
      ],
      "metadata": {
        "id": "2Pn0qJFsye6E",
        "colab": {
          "base_uri": "https://localhost:8080/"
        },
        "outputId": "9df4652a-cc00-417b-9857-26495b4ae5ca"
      },
      "execution_count": 99,
      "outputs": [
        {
          "output_type": "stream",
          "name": "stdout",
          "text": [
            "Array:\n",
            " [1 2 3 4 5]\n",
            "\n",
            "Conteudo do arquivo1.txt:\n",
            " [1 2 3 4 5]\n"
          ]
        }
      ]
    },
    {
      "cell_type": "markdown",
      "source": [
        "20. Carregar dados de um arquivo de texto"
      ],
      "metadata": {
        "id": "m9LNbCuv7wNi"
      }
    },
    {
      "cell_type": "code",
      "source": [
        "import numpy as np\n",
        "\n",
        "\n",
        "# Text file data converted to integer data type\n",
        "File_data = np.loadtxt(\"/content/drive/MyDrive/Numpy_tutorial_OF_Janaine/arquivo.txt\", dtype=str)\n",
        "print(File_data)"
      ],
      "metadata": {
        "colab": {
          "base_uri": "https://localhost:8080/"
        },
        "id": "g7X_JK8xorP_",
        "outputId": "e82b40c3-10fe-4637-fd9f-f94bedd3bbf0"
      },
      "execution_count": 115,
      "outputs": [
        {
          "output_type": "stream",
          "name": "stdout",
          "text": [
            "['Ola' 'tudo' 'bem']\n"
          ]
        }
      ]
    },
    {
      "cell_type": "markdown",
      "source": [
        "21. Traçar gráfico de linha da matriz NumPy"
      ],
      "metadata": {
        "id": "zI_w3Uk77ywj"
      }
    },
    {
      "cell_type": "code",
      "source": [
        "!pip install matplotlib\n"
      ],
      "metadata": {
        "id": "21k5g_xqygGm",
        "colab": {
          "base_uri": "https://localhost:8080/"
        },
        "outputId": "53ad7db0-3ebc-46ae-d83e-39fbdeb7bcba"
      },
      "execution_count": 117,
      "outputs": [
        {
          "output_type": "stream",
          "name": "stdout",
          "text": [
            "Requirement already satisfied: matplotlib in /usr/local/lib/python3.10/dist-packages (3.7.1)\n",
            "Requirement already satisfied: contourpy>=1.0.1 in /usr/local/lib/python3.10/dist-packages (from matplotlib) (1.2.0)\n",
            "Requirement already satisfied: cycler>=0.10 in /usr/local/lib/python3.10/dist-packages (from matplotlib) (0.12.1)\n",
            "Requirement already satisfied: fonttools>=4.22.0 in /usr/local/lib/python3.10/dist-packages (from matplotlib) (4.49.0)\n",
            "Requirement already satisfied: kiwisolver>=1.0.1 in /usr/local/lib/python3.10/dist-packages (from matplotlib) (1.4.5)\n",
            "Requirement already satisfied: numpy>=1.20 in /usr/local/lib/python3.10/dist-packages (from matplotlib) (1.25.2)\n",
            "Requirement already satisfied: packaging>=20.0 in /usr/local/lib/python3.10/dist-packages (from matplotlib) (23.2)\n",
            "Requirement already satisfied: pillow>=6.2.0 in /usr/local/lib/python3.10/dist-packages (from matplotlib) (9.4.0)\n",
            "Requirement already satisfied: pyparsing>=2.3.1 in /usr/local/lib/python3.10/dist-packages (from matplotlib) (3.1.1)\n",
            "Requirement already satisfied: python-dateutil>=2.7 in /usr/local/lib/python3.10/dist-packages (from matplotlib) (2.8.2)\n",
            "Requirement already satisfied: six>=1.5 in /usr/local/lib/python3.10/dist-packages (from python-dateutil>=2.7->matplotlib) (1.16.0)\n"
          ]
        }
      ]
    },
    {
      "cell_type": "code",
      "source": [
        "import numpy as np\n",
        "import matplotlib.pyplot as plt\n",
        "\n",
        "# Criando um array NumPy com valores de x\n",
        "x = np.linspace(0, 10, 100)\n",
        "\n",
        "# Calculando os valores de y (por exemplo, y = x^2)\n",
        "y = x ** 2\n",
        "\n",
        "# Traçando o gráfico de linha\n",
        "plt.plot(x, y, label=\"y = x^2\")\n",
        "plt.xlabel(\"Eixo X\")\n",
        "plt.ylabel(\"Eixo Y\")\n",
        "plt.title(\"Gráfico de Linha\")\n",
        "plt.legend()\n",
        "plt.grid(True)\n",
        "plt.show()\n"
      ],
      "metadata": {
        "colab": {
          "base_uri": "https://localhost:8080/",
          "height": 472
        },
        "id": "HxR8RHEzpRSR",
        "outputId": "7aeca23d-cd6d-45e4-d128-b366d9697fd9"
      },
      "execution_count": 118,
      "outputs": [
        {
          "output_type": "display_data",
          "data": {
            "text/plain": [
              "<Figure size 640x480 with 1 Axes>"
            ],
            "image/png": "[encoded data removed]"
          },
          "metadata": {}
        }
      ]
    },
    {
      "cell_type": "markdown",
      "source": [
        "22. Crie histograma usando NumPy"
      ],
      "metadata": {
        "id": "DNPvKbKq74Px"
      }
    },
    {
      "cell_type": "code",
      "source": [
        "import numpy as np\n",
        "import matplotlib.pyplot as plt\n",
        "\n",
        "# Criando dados de exemplo (vamos usar uma distribuição normal)\n",
        "data = np.random.normal(size=1000)\n",
        "\n",
        "# Calculando o histograma\n",
        "hist_values, bin_edges = np.histogram(data, bins=20)\n",
        "\n",
        "# Traçando o histograma\n",
        "plt.hist(data, bins=20, color='red', edgecolor='black')\n",
        "plt.xlabel(\"Valores\")\n",
        "plt.ylabel(\"Frequência\")\n",
        "plt.title(\"Histograma\")\n",
        "plt.grid(True)\n",
        "plt.show()\n"
      ],
      "metadata": {
        "id": "sG09ExnQygnA",
        "colab": {
          "base_uri": "https://localhost:8080/",
          "height": 472
        },
        "outputId": "e1e19c5e-ae64-4bf8-c25c-a94cbbbd8a21"
      },
      "execution_count": 121,
      "outputs": [
        {
          "output_type": "display_data",
          "data": {
            "text/plain": [
              "<Figure size 640x480 with 1 Axes>"
            ],
            "image/png": "[encoded data removed]"
          },
          "metadata": {}
        }
      ]
    }
  ]
}